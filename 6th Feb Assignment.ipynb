{
 "cells": [
  {
   "cell_type": "code",
   "execution_count": 32,
   "id": "d31557db-c50d-471a-9ae5-bb7b329caaae",
   "metadata": {},
   "outputs": [],
   "source": [
    "list1 = [1,2,3,4, [44,55,66, True], False, (34,56,78,89,34), {1,2,3,3,2,1}, {1:34, \"key2\": [55, 67, 78, 89], 4: (45,\n",
    "22, 61, 34)}, [56, 'data science'], 'Machine Learning']"
   ]
  },
  {
   "cell_type": "code",
   "execution_count": 60,
   "id": "f815cb10-b3b0-465d-a704-11ded89fc10c",
   "metadata": {},
   "outputs": [
    {
     "name": "stdout",
     "output_type": "stream",
     "text": [
      "[1, 2, 3, 4, 44, 55, 66, 34, 56, 78, 89, 34, 1, 2, 3, 1, 34, 55, 67, 78, 89, 4, 45, 22, 61, 34, 56]\n"
     ]
    }
   ],
   "source": [
    "#Q1\n",
    "from functools import reduce\n",
    "def numeric(lst):\n",
    "    l1=[]\n",
    "    for i in lst:\n",
    "        if isinstance(i,int) and not isinstance(i,bool):\n",
    "            l1.append(i)\n",
    "        elif isinstance(i,(list,tuple)):\n",
    "            l1.extend(numeric(i))\n",
    "        elif isinstance(i,dict):\n",
    "            l1.extend(numeric(list(i.items())))\n",
    "        elif isinstance(i,set):\n",
    "            l1.extend(i)\n",
    "           #l1.extend(numeric(list(i.keys)))\n",
    "    return l1\n",
    "list1=[1, 2, 3, 4, [44, 55, 66, True], False, (34, 56, 78, 89, 34), {1, 2, 3, 3, 2, 1}, {1: 34, \"key2\": [55, 67, 78, 89], 4: (45, 22, 61, 34)}, [56, 'data science'], 'Machine Learning']\n",
    "numeric_values=numeric(list1)\n",
    "print(numeric_values,sep=',')\n",
    "reduce(lambda x,y:x*y,l1)"
   ]
  },
  {
   "cell_type": "code",
   "execution_count": 39,
   "id": "adf1c2a9-ff35-41a0-80a4-835488de569c",
   "metadata": {},
   "outputs": [
    {
     "data": {
      "text/plain": [
       "'r$dzmg$gl$yvxlnv$z$wzgz$hxrvmgrhg.'"
      ]
     },
     "execution_count": 39,
     "metadata": {},
     "output_type": "execute_result"
    }
   ],
   "source": [
    "#Q2\n",
    "def encrypt_message(message):\n",
    "    encrypted_message=''\n",
    "    for char in message:\n",
    "        if char.isalpha():\n",
    "            char=char.lower()\n",
    "            encrypted_char =chr(219-ord(char))\n",
    "            encrypted_message += encrypted_char\n",
    "        elif char.isspace():\n",
    "            encrypted_message+='$'\n",
    "        else:\n",
    "            encrypted_message+=char\n",
    "    return encrypted_message\n",
    "\n",
    "sentence=\"I want to become a Data Scientist.\"\n",
    "encrypt_message(sentence)"
   ]
  },
  {
   "cell_type": "code",
   "execution_count": 43,
   "id": "bda849c8-a97e-4706-bc7c-a37f484efed1",
   "metadata": {},
   "outputs": [],
   "source": [
    "l=[1,2,3]\n",
    "l.extend((3,5))"
   ]
  },
  {
   "cell_type": "code",
   "execution_count": 49,
   "id": "c65b20ac-a997-45a1-8ca9-cbcfdff81001",
   "metadata": {},
   "outputs": [
    {
     "data": {
      "text/plain": [
       "[1, 2, 3, 3, 5]"
      ]
     },
     "execution_count": 49,
     "metadata": {},
     "output_type": "execute_result"
    }
   ],
   "source": [
    "l"
   ]
  },
  {
   "cell_type": "code",
   "execution_count": 50,
   "id": "5d46eda4-ece2-4392-9c29-bbc73883da3d",
   "metadata": {},
   "outputs": [
    {
     "data": {
      "text/plain": [
       "{1, 2, 3}"
      ]
     },
     "execution_count": 50,
     "metadata": {},
     "output_type": "execute_result"
    }
   ],
   "source": [
    "{1,2,3,3,2,1}"
   ]
  },
  {
   "cell_type": "code",
   "execution_count": null,
   "id": "65a884bc-9ad4-4852-8924-05659316eb0e",
   "metadata": {},
   "outputs": [],
   "source": []
  }
 ],
 "metadata": {
  "kernelspec": {
   "display_name": "Python 3 (ipykernel)",
   "language": "python",
   "name": "python3"
  },
  "language_info": {
   "codemirror_mode": {
    "name": "ipython",
    "version": 3
   },
   "file_extension": ".py",
   "mimetype": "text/x-python",
   "name": "python",
   "nbconvert_exporter": "python",
   "pygments_lexer": "ipython3",
   "version": "3.10.8"
  }
 },
 "nbformat": 4,
 "nbformat_minor": 5
}
