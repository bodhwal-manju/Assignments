{
 "cells": [
  {
   "cell_type": "code",
   "execution_count": 2,
   "id": "ecf7e227-dd5d-4e93-ad50-50eb66b0b5af",
   "metadata": {},
   "outputs": [
    {
     "data": {
      "text/plain": [
       "'In simpler terms, a class is a template or a bluepringt,while an object\\nis a specific instance of that template or blueprint with its own unique\\ncharacteristics'"
      ]
     },
     "execution_count": 2,
     "metadata": {},
     "output_type": "execute_result"
    }
   ],
   "source": [
    "\"\"\"class is  a blueprint for creating objects that encapsulates data \n",
    "and behavior.It defines the properties and methods that the objects of that\n",
    "class  will have\"\"\"\n",
    "\n",
    "\"\"\" An object on the other hand,is an instance of a class .It is created from a \n",
    "class and has its own unique set of values for the properties defined in the class\n",
    "Objects can also invoke the methods defined in their class,as well as\n",
    "inherit and override them from their parent classes\"\"\"\n",
    "\n",
    "\"\"\"In simpler terms, a class is a template or a bluepringt,while an object\n",
    "is a specific instance of that template or blueprint with its own unique\n",
    "characteristics\"\"\"\n",
    "\n"
   ]
  },
  {
   "cell_type": "code",
   "execution_count": 15,
   "id": "f676fb2c-5939-4f20-a92d-05b7ade46ddf",
   "metadata": {},
   "outputs": [
    {
     "name": "stdout",
     "output_type": "stream",
     "text": [
      "blue\n",
      "2018\n",
      "The car has started\n",
      "the car has stopped\n"
     ]
    }
   ],
   "source": [
    "class Car: \n",
    "    def __init__(self,color,make,model,year):\n",
    "        self.color=color\n",
    "        self.make=make\n",
    "        self.model=model\n",
    "        self.year=year\n",
    "        \n",
    "    def start(self):\n",
    "        print(\"The car has started\")\n",
    "    def stop(self):\n",
    "        print(\"the car has stopped\")\n",
    "    def accelerate(self):\n",
    "        print(\"the car is accelerating\")\n",
    "        \n",
    "#creating an object of \" Car\"  Class   \n",
    "my_car=Car(\"blue\",\"Toyoto\",\"corolla\",2018)\n",
    "\n",
    "print(my_car.color)\n",
    "print(my_car.year)\n",
    "my_car.start()\n",
    "my_car.stop()"
   ]
  },
  {
   "cell_type": "code",
   "execution_count": 16,
   "id": "79ac46e4-e9ae-4047-b0a9-44d73cbe161e",
   "metadata": {},
   "outputs": [
    {
     "data": {
      "text/plain": [
       "'The four pillars of OOPS are\\nEncapsulation: It is the mechanism that allows data to be hidden from\\nfrom outside world and only accessible through public methods.It helps\\nto protect the data from being modified accidentally\\n\\nAbstraction: It is the process of hiding the complex details and providing\\na simpler interface for the user.It allows the user to interact with the system\\nwithout having to understand the underlying complexity.\\n\\nInheritance: It is a mechanism that allows a new class to be based on\\nan existing class.The new class inherits the properties and methods of existing\\nclassand can alos add its own properties and methods.\\n\\nPolymorphism: It is the ability of an object to make  on many forms.It allows\\nobjects of different classes to be treated as if they were the same class,\\nsimplifying code and making it more flexible.\\n\\n\\n'"
      ]
     },
     "execution_count": 16,
     "metadata": {},
     "output_type": "execute_result"
    }
   ],
   "source": [
    "\"\"\"The four pillars of OOPS are\n",
    "Encapsulation: It is the mechanism that allows data to be hidden from\n",
    "from outside world and only accessible through public methods.It helps\n",
    "to protect the data from being modified accidentally\n",
    "\n",
    "Abstraction: It is the process of hiding the complex details and providing\n",
    "a simpler interface for the user.It allows the user to interact with the system\n",
    "without having to understand the underlying complexity.\n",
    "\n",
    "Inheritance: It is a mechanism that allows a new class to be based on\n",
    "an existing class.The new class inherits the properties and methods of existing\n",
    "classand can alos add its own properties and methods.\n",
    "\n",
    "Polymorphism: It is the ability of an object to make  on many forms.It allows\n",
    "objects of different classes to be treated as if they were the same class,\n",
    "simplifying code and making it more flexible.\n",
    "\n",
    "\n",
    "\"\"\"\n",
    "\n"
   ]
  },
  {
   "cell_type": "code",
   "execution_count": 18,
   "id": "00e7d1b6-69fa-49fd-a2bc-e4b4e18f52cc",
   "metadata": {},
   "outputs": [
    {
     "name": "stdout",
     "output_type": "stream",
     "text": [
      "satyawan Singh\n",
      "39\n",
      "Chetan Mohan\n",
      "36\n"
     ]
    }
   ],
   "source": [
    "# __init__()\n",
    "\"\"\"in OOPs, the '__init__()' function is a special method used to \n",
    "initialize the object's attributes and server no other purpose \"\"\"\n",
    "\n",
    "#example\n",
    "class father:\n",
    "    def __init__(self,name,age):\n",
    "        self.name=name\n",
    "        self.age=age\n",
    "        \n",
    "father1=father(\"satyawan Singh\",39)\n",
    "print(father1.name)\n",
    "print(father1.age)\n",
    "\n",
    "father2=father(\"Chetan Mohan\",36)\n",
    "print(father2.name)\n",
    "print(father2.age)\n",
    "    "
   ]
  },
  {
   "cell_type": "code",
   "execution_count": 1,
   "id": "aae38757-a94e-4931-a8b7-f0af520a13db",
   "metadata": {},
   "outputs": [
    {
     "data": {
      "text/plain": [
       "\"self keyword refers to the instance of a class that is being operated on.\\nwhen  a method is called on an object ,the self  keyword is used to refer the object itself\\n\\nUsing 'self ' in methods allows the object to keep track of its own state\\nand behaviour. It allows the object to access its own properties and methods,\\nand to modify its own state\""
      ]
     },
     "execution_count": 1,
     "metadata": {},
     "output_type": "execute_result"
    }
   ],
   "source": [
    "\"\"\"self keyword refers to the instance of a class that is being operated on.\n",
    "when  a method is called on an object ,the self  keyword is used to refer the object itself\n",
    "\n",
    "Using 'self ' in methods allows the object to keep track of its own state\n",
    "and behaviour. It allows the object to access its own properties and methods,\n",
    "and to modify its own state\"\"\""
   ]
  },
  {
   "cell_type": "code",
   "execution_count": 1,
   "id": "4e39980f-21c0-4bbc-a591-4493e9a8a006",
   "metadata": {},
   "outputs": [
    {
     "data": {
      "text/plain": [
       "'1.Single inheritance: Im single inheritance,a subclass inherits the properties\\nand  methods of a single base class.\\n\\n2) Multiple inheritance: in multiple inheritance,a sub class inherits \\nthe properties and methods of multiple base classes.\\n\\n3) Multilevel inheritance: In multilevel inheritance, a subclass is \\nderived from a base class,which in turn is derived from another base class.\\n\\n4) Hierarchical Inheritance: In hierarchial inheritance , multiple \\nsubclasses are derived from a single base class.'"
      ]
     },
     "execution_count": 1,
     "metadata": {},
     "output_type": "execute_result"
    }
   ],
   "source": [
    "\"\"\" In OOPs ,the inheritance is the process of creating a new class\n",
    "by deriving the properties and behavior of an existing class.The new \n",
    "class is known as the derived class or subclass, and the existing class\n",
    "is known as the base class or superclass.Inheritance allows reusability and helps\n",
    "in creating a hierarchy of related classes\n",
    "\"\"\"\n",
    "# there are 4 types of inheritance:\n",
    "\"\"\"1.Single inheritance: Im single inheritance,a subclass inherits the properties\n",
    "and  methods of a single base class.\n",
    "\n",
    "2) Multiple inheritance: in multiple inheritance,a sub class inherits \n",
    "the properties and methods of multiple base classes.\n",
    "\n",
    "3) Multilevel inheritance: In multilevel inheritance, a subclass is \n",
    "derived from a base class,which in turn is derived from another base class.\n",
    "\n",
    "4) Hierarchical Inheritance: In hierarchial inheritance , multiple \n",
    "subclasses are derived from a single base class.\"\"\""
   ]
  },
  {
   "cell_type": "code",
   "execution_count": 2,
   "id": "dd1c7c91-3ef3-4a4e-9177-909133709b5e",
   "metadata": {},
   "outputs": [
    {
     "name": "stdout",
     "output_type": "stream",
     "text": [
      "Eating..\n",
      "Barking..\n"
     ]
    }
   ],
   "source": [
    "#Single Inheritance:\n",
    "class Animal:\n",
    "    def eat(self):\n",
    "        print(\"Eating..\")\n",
    "        \n",
    "class Dog(Animal):\n",
    "    def bark(self):\n",
    "        print(\"Barking..\")\n",
    "dog1=Dog()\n",
    "dog1.eat()\n",
    "dog1.bark()"
   ]
  },
  {
   "cell_type": "code",
   "execution_count": 3,
   "id": "d81c03e9-d40d-4330-a593-4327e48aa973",
   "metadata": {},
   "outputs": [
    {
     "name": "stdout",
     "output_type": "stream",
     "text": [
      "Eating..\n",
      "Barking...\n"
     ]
    }
   ],
   "source": [
    "#Multiple Inheritance:\n",
    "class Animal:\n",
    "    def eat(self):\n",
    "        print(\"Eating..\")\n",
    "        \n",
    "class Canine:\n",
    "    def bark(self):\n",
    "        print(\"Barking...\")\n",
    "        \n",
    "class Dog(Animal,Canine):\n",
    "    pass\n",
    "\n",
    "dog1=Dog()\n",
    "dog1.eat()\n",
    "dog1.bark()\n",
    "        "
   ]
  },
  {
   "cell_type": "code",
   "execution_count": 4,
   "id": "cb8f5ef4-2042-432a-bf84-91b31a383ecf",
   "metadata": {},
   "outputs": [
    {
     "name": "stdout",
     "output_type": "stream",
     "text": [
      "Eating...\n",
      "Barking\n",
      "Dancing...\n"
     ]
    }
   ],
   "source": [
    "#Multilevel inheritance\n",
    "class Animal:\n",
    "    def eat(self):\n",
    "        print(\"Eating...\")\n",
    "\n",
    "class Dog(Animal):\n",
    "    def bark(self):\n",
    "        print(\"Barking\")\n",
    "        \n",
    "class Poodle(Dog):\n",
    "    def dance(self):\n",
    "        print(\"Dancing...\")\n",
    "        \n",
    "poodle1=Poodle()\n",
    "poodle1.eat()\n",
    "poodle1.bark()\n",
    "poodle1.dance()\n"
   ]
  },
  {
   "cell_type": "code",
   "execution_count": 6,
   "id": "6a76af48-805a-4815-9525-be98341631f5",
   "metadata": {},
   "outputs": [
    {
     "name": "stdout",
     "output_type": "stream",
     "text": [
      "Eating...\n",
      "Barking...\n",
      "Eating...\n",
      "Meowing....\n"
     ]
    }
   ],
   "source": [
    "#Hierarchial inheritance\n",
    "class Animal:\n",
    "    def eat(self):\n",
    "        print(\"Eating...\")\n",
    "        \n",
    "class Dog(Animal):\n",
    "    def bark(self):\n",
    "        print(\"Barking...\")\n",
    "        \n",
    "class Cat(Animal):\n",
    "    def meow(self):\n",
    "        print(\"Meowing....\")\n",
    "        \n",
    "dog1=Dog()\n",
    "Cat1=Cat()\n",
    "dog1.eat()\n",
    "dog1.bark()\n",
    "Cat1.eat()\n",
    "Cat1.meow()"
   ]
  },
  {
   "cell_type": "code",
   "execution_count": null,
   "id": "bbe6e438-9d13-4094-b2b5-7c8b293e415c",
   "metadata": {},
   "outputs": [],
   "source": []
  }
 ],
 "metadata": {
  "kernelspec": {
   "display_name": "Python 3 (ipykernel)",
   "language": "python",
   "name": "python3"
  },
  "language_info": {
   "codemirror_mode": {
    "name": "ipython",
    "version": 3
   },
   "file_extension": ".py",
   "mimetype": "text/x-python",
   "name": "python",
   "nbconvert_exporter": "python",
   "pygments_lexer": "ipython3",
   "version": "3.10.8"
  }
 },
 "nbformat": 4,
 "nbformat_minor": 5
}
