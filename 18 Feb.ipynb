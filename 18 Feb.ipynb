{
 "cells": [
  {
   "cell_type": "markdown",
   "id": "dcb62cc0-df19-4406-8cd2-b9fe84df7e5e",
   "metadata": {},
   "source": [
    "# Q1. What is an API? Give an example, where an API is used in real life."
   ]
  },
  {
   "cell_type": "markdown",
   "id": "8c3288b6-9ec4-4e57-ab14-813cd8efc676",
   "metadata": {},
   "source": [
    "Ans:\n",
    "API (application programming interface) is a way for two or more computer programs, web application, or apps to communicate with each other.\n",
    "\n",
    "Ex. G Pay It is a google application, which is used to communicate betwee bank to Account holder. When account holder wants to send money his friend then go to GPay and put friend's account details and then send money by using it. And GPay go to bank server and check your account balance and then successful transection or deny this request.\n",
    "\n",
    "WhatsApp, PePhone, Google, .etc\n"
   ]
  },
  {
   "cell_type": "markdown",
   "id": "668dad0c-4879-4851-b04f-392c59ba6795",
   "metadata": {},
   "source": [
    "# Q2. Give advantages and disadvantages of using API.\n"
   ]
  },
  {
   "cell_type": "markdown",
   "id": "8ab85d86-3683-441c-8516-b00e00eb98a5",
   "metadata": {},
   "source": [
    "Advantages\t\n",
    "1. Interpretation of real objects\n",
    "2. Identification of complex patterns and complex situations\n",
    "3. Ability to include or ignore features intelli- gently\t\n",
    "4. Multi-scale representation\t\n",
    "5. Use of shape, context, neighbourhood relationships\t\n",
    "\n",
    "Disadvantages\n",
    "1. Sujective\n",
    "2. Time consuming\n",
    "3. A fixed scale is necessary\n",
    "4. Inconsistency in the use of a steady scale to the whole image Human error\n",
    "5. Imprecise boundary delineation\n"
   ]
  },
  {
   "cell_type": "markdown",
   "id": "44e4d695-00de-442d-8e02-77fd3937a33e",
   "metadata": {},
   "source": [
    "# Q3. What is a Web API? Differentiate between API and Web API."
   ]
  },
  {
   "cell_type": "markdown",
   "id": "f5fffac9-58c0-44df-8cc2-91cb28debf14",
   "metadata": {},
   "source": [
    "An API (Application Programming Interface) is a set of rules and protocols that allows different software applications to communicate with each other. It defines the methods, data formats, and conventions that developers can use to interact with a software component or service.\n",
    "\n",
    "A Web API, specifically, refers to an API that is designed to be accessed over the internet using the protocols and standards of the World Wide Web. It allows developers to interact with web-based services, retrieve data, and perform operations using standard web protocols such as HTTP.\n",
    "\n",
    "Here are the key differences between API and Web API:\n",
    "\n",
    "1. Scope:\n",
    "API: The term \"API\" is a general term that encompasses various types of interfaces, including web APIs. It can refer to APIs that are accessed locally on a device, such as operating system APIs or libraries.\n",
    "Web API: It specifically refers to APIs that are accessed over the web using standard web protocols. Web APIs are designed to be accessible from remote systems and enable communication between different web-based applications.\n",
    "\n",
    "2. Protocol:\n",
    "API: APIs can use various protocols for communication, including web protocols like HTTP, but they are not limited to them. APIs can use protocols specific to a particular platform or technology.\n",
    "Web API: It is specifically built to adhere to web protocols, primarily HTTP. Web APIs follow the principles of the web, such as utilizing standard methods (GET, POST, PUT, DELETE) and leveraging the stateless nature of the HTTP protocol.\n",
    "\n",
    "3. Accessibility:\n",
    "API: APIs can be accessed locally on a device or within a closed network. They may have limitations on accessibility based on permissions and network configurations.\n",
    "Web API: It is designed to be publicly accessible over the internet. Web APIs are typically made available to a broader range of clients and can be accessed from anywhere with an internet connection.\n",
    "\n",
    "4. Interoperability:\n",
    "API: APIs can be built using various programming languages, frameworks, and technologies, allowing them to communicate with different types of software components and services.\n",
    "Web API: It promotes interoperability between different systems, regardless of the programming languages or platforms they use. Web APIs adhere to web standards, making them accessible to a wide range of clients and enabling integration across diverse systems.\n",
    "\n",
    "\n",
    "In summary, while API is a general term that encompasses various types of interfaces, a Web API specifically refers to an API that follows web protocols and is accessible over the internet. Web APIs enable communication between web-based applications and promote interoperability across different systems and technologies."
   ]
  },
  {
   "cell_type": "markdown",
   "id": "1ea81c94-2897-4ed6-a033-869b3b09a920",
   "metadata": {},
   "source": [
    "# Q4. Explain REST and SOAP Architecture. Mention shortcomings of SOAP.\n"
   ]
  },
  {
   "cell_type": "markdown",
   "id": "c380ca32-8390-45db-b11b-036ba1d4faae",
   "metadata": {},
   "source": [
    "Ans:\n",
    "\n",
    "REST stands for REpresentational State Transfer and API stands for Application Program Interface. REST is a software architectural style that defines the set of rules to be used for creating web services.\n",
    "A Restful system consists of a:\n",
    "\n",
    "client who requests for the resources.\n",
    "server who has the resources.\n",
    "\n",
    "\n",
    "SOAP (formerly a backronym for Simple Object Access Protocol) is a messaging protocol specification for exchanging structured information in the implementation of web services\n",
    "SOAP messaging structure\n",
    "\n",
    "Envelope\n",
    "Header (optional)\n",
    "Body includes the request or response.\n",
    "Fault\n",
    "\n",
    "Shortcomings of SOAP\n",
    "\n",
    "Complexity in code and understanding\n",
    "Performance slower than other web service protocols\n",
    "Developers facing Tooling problems"
   ]
  },
  {
   "cell_type": "markdown",
   "id": "13682f2f-1985-4fef-a3df-a4d4c37a5bb8",
   "metadata": {},
   "source": [
    "# Q5. Differentiate between REST and SOAP.\n"
   ]
  },
  {
   "cell_type": "markdown",
   "id": "80d6a1a0-1fe8-4f0b-aa12-64606b7c858f",
   "metadata": {},
   "source": [
    "REST (Representational State Transfer) and SOAP (Simple Object Access Protocol) are two popular web service communication protocols used for exchanging data between systems. Here are the main differences between REST and SOAP:\n",
    "\n",
    "1. Architecture:\n",
    " REST: It is an architectural style that follows a stateless, client-server, and resource-based approach. It is based on the principles of the web and commonly uses HTTP as the underlying protocol.\n",
    "   SOAP: It is a protocol that defines a set of rules for structuring messages and exchanging data over various protocols, such as HTTP, SMTP, or TCP. It follows a more complex and standardized approach.\n",
    "\n",
    "2. Protocol:\n",
    "REST: It uses various protocols, most commonly HTTP, for communication. RESTful APIs (Application Programming Interfaces) rely on standard HTTP methods such as GET, POST, PUT, and DELETE to perform operations on resources.\n",
    "SOAP: It defines its own protocol and uses XML (eXtensible Markup Language) for message formatting. SOAP messages are typically sent over HTTP or other protocols but are not limited to them.\n",
    "\n",
    "3. Message Format:\n",
    "REST: It supports multiple data formats, such as JSON (JavaScript Object Notation), XML, and plain text, among others. JSON is widely used due to its simplicity and lightweight nature.\n",
    "SOAP: It uses XML for message formatting, which makes it more verbose and complex compared to REST. SOAP messages include a defined envelope structure, headers, and a body containing the actual data.\n",
    "\n",
    "4. Communication Style:\n",
    "REST: It is generally considered stateless, meaning each request from the client to the server should contain all the necessary information. The server does not store any client state between requests.\n",
    "SOAP: It can support both stateless and stateful communication. It allows for more advanced features like message integrity, reliability, and security through additional layers such as WS-Security.\n",
    "\n",
    "5. Flexibility and Simplicity:\n",
    "REST: It is lightweight and simple to understand, making it easier to develop and maintain. It leverages existing web standards and is more flexible, making it suitable for a wide range of applications, including mobile and web-based systems.\n",
    "SOAP: It is more rigid and complex compared to REST. It has a steep learning curve and requires the use of additional libraries or frameworks to handle the complexities of the protocol.\n",
    "\n",
    "\n",
    "Overall, REST is preferred for simpler, lightweight, and scalable applications, while SOAP is typically used in enterprise-level scenarios that require strict security, reliability, and advanced functionality. The choice between REST and SOAP depends on the specific requirements of the project and the existing infrastructure."
   ]
  },
  {
   "cell_type": "code",
   "execution_count": null,
   "id": "4f363738-8da0-4c58-b712-a17cb93cf510",
   "metadata": {},
   "outputs": [],
   "source": []
  }
 ],
 "metadata": {
  "kernelspec": {
   "display_name": "Python 3 (ipykernel)",
   "language": "python",
   "name": "python3"
  },
  "language_info": {
   "codemirror_mode": {
    "name": "ipython",
    "version": 3
   },
   "file_extension": ".py",
   "mimetype": "text/x-python",
   "name": "python",
   "nbconvert_exporter": "python",
   "pygments_lexer": "ipython3",
   "version": "3.10.8"
  }
 },
 "nbformat": 4,
 "nbformat_minor": 5
}
