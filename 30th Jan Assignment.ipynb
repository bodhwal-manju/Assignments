{
 "cells": [
  {
   "cell_type": "code",
   "execution_count": 9,
   "id": "5f1b28b5-2a1a-4211-bfb6-3e853bd2d62b",
   "metadata": {},
   "outputs": [
    {
     "name": "stdin",
     "output_type": "stream",
     "text": [
      "Enter your marks :  89\n"
     ]
    },
    {
     "data": {
      "text/plain": [
       "'B'"
      ]
     },
     "execution_count": 9,
     "metadata": {},
     "output_type": "execute_result"
    }
   ],
   "source": [
    "#q1\n",
    "marks=int(input(\"Enter your marks : \"))\n",
    "if marks>90:\n",
    "    grade='A'\n",
    "elif marks>80 and marks<=90:\n",
    "    grade='B'\n",
    "elif marks>=60 and marks <=80:\n",
    "    grade='C'\n",
    "else:\n",
    "    grade='D'\n",
    "grade    "
   ]
  },
  {
   "cell_type": "code",
   "execution_count": 10,
   "id": "798b0858-929b-4b75-bbad-96de88e18b1a",
   "metadata": {},
   "outputs": [
    {
     "name": "stdin",
     "output_type": "stream",
     "text": [
      "Enter the Cost Price of Bike :  300000\n"
     ]
    },
    {
     "data": {
      "text/plain": [
       "45000.0"
      ]
     },
     "execution_count": 10,
     "metadata": {},
     "output_type": "execute_result"
    }
   ],
   "source": [
    "#Q2\n",
    "Cost_Price= int(input(\"Enter the Cost Price of Bike : \"))\n",
    "if Cost_Price>100000:\n",
    "    Tax=0.15*Cost_Price\n",
    "elif Cost_Price<=100000 and Cost_Price>50000:\n",
    "    Tax=0.10*Cost_Price\n",
    "else:\n",
    "    Tax=0.05*Cost_Price\n",
    "Tax    "
   ]
  },
  {
   "cell_type": "code",
   "execution_count": 18,
   "id": "b285acbc-7ec7-4eb0-88cf-0f4f96177afc",
   "metadata": {},
   "outputs": [
    {
     "name": "stdin",
     "output_type": "stream",
     "text": [
      "Enter City:  Rajasthan\n"
     ]
    },
    {
     "name": "stdout",
     "output_type": "stream",
     "text": [
      "Not Found\n"
     ]
    }
   ],
   "source": [
    "#Q3\n",
    "city=input(\"Enter City: \")\n",
    "if city=='Delhi':\n",
    "    print('Red Fort')\n",
    "elif city=='Agra':\n",
    "    print('Taj Mahal')\n",
    "elif city=='Jaipur':\n",
    "     print('Jal Mahal')\n",
    "else:\n",
    "    print(\"Not Found\")\n"
   ]
  },
  {
   "cell_type": "code",
   "execution_count": 21,
   "id": "039f0113-324d-4283-96a5-376864a1e4d4",
   "metadata": {},
   "outputs": [
    {
     "name": "stdin",
     "output_type": "stream",
     "text": [
      "Enter the Number:  45\n"
     ]
    },
    {
     "data": {
      "text/plain": [
       "2"
      ]
     },
     "execution_count": 21,
     "metadata": {},
     "output_type": "execute_result"
    }
   ],
   "source": [
    "#Q4\n",
    "n=int(input(\"Enter the Number: \"))\n",
    "count=0\n",
    "while n>10:\n",
    "    n=n/3\n",
    "    count=count+1\n",
    "\n",
    "count\n"
   ]
  },
  {
   "cell_type": "code",
   "execution_count": 22,
   "id": "3b7dd0c2-8aa1-46dc-bd88-142f547dd660",
   "metadata": {},
   "outputs": [
    {
     "data": {
      "text/plain": [
       "'In Python, the while loop is used when you want to repeatedly execute a block of code as long as a certain condition remains true. It allows you to create loops that continue until a specific condition is no longer met.\\nThe syntax of a while loop in Python is as follows:\\nwhile condition:\\n    # Code to be executed\\n    \\nCondition: The condition is a Boolean expression that determines whether the loop should continue or not. It is evaluated before each iteration of the loop. If the condition is True, the loop continues executing; if it is False, the loop is terminated, and the program moves on to the next statement after the while loop.\\nBlock of code: The block of code inside the while loop is executed repeatedly as long as the condition is True. This block of code should be indented to indicate that it is part of the loop.    \\n'"
      ]
     },
     "execution_count": 22,
     "metadata": {},
     "output_type": "execute_result"
    }
   ],
   "source": [
    "#Q5\n",
    "\"\"\"In Python, the while loop is used when you want to repeatedly execute a block of code as long as a certain condition remains true. It allows you to create loops that continue until a specific condition is no longer met.\n",
    "The syntax of a while loop in Python is as follows:\n",
    "while condition:\n",
    "    # Code to be executed\n",
    "    \n",
    "Condition: The condition is a Boolean expression that determines whether the loop should continue or not. It is evaluated before each iteration of the loop. If the condition is True, the loop continues executing; if it is False, the loop is terminated, and the program moves on to the next statement after the while loop.\n",
    "Block of code: The block of code inside the while loop is executed repeatedly as long as the condition is True. This block of code should be indented to indicate that it is part of the loop.    \n",
    "\"\"\""
   ]
  },
  {
   "cell_type": "code",
   "execution_count": 23,
   "id": "c79b9c9e-eef1-411d-bc6b-123c41e2f236",
   "metadata": {},
   "outputs": [
    {
     "name": "stdout",
     "output_type": "stream",
     "text": [
      "1\n",
      "2\n",
      "3\n",
      "4\n",
      "5\n"
     ]
    }
   ],
   "source": [
    "# Example:\n",
    "count = 1\n",
    "while count <= 5:\n",
    "    print(count)\n",
    "    count += 1"
   ]
  },
  {
   "cell_type": "code",
   "execution_count": 24,
   "id": "a7383bab-b7ec-4b96-8a34-7fe762222e81",
   "metadata": {},
   "outputs": [
    {
     "name": "stdout",
     "output_type": "stream",
     "text": [
      "*\n",
      "**\n",
      "***\n",
      "****\n",
      "*****\n"
     ]
    }
   ],
   "source": [
    "#Q6\n",
    "# Pattern 1:Triangle Pattern\n",
    "rows=5\n",
    "i=1\n",
    "while i<=rows:\n",
    "    j=1\n",
    "    while j<=i:\n",
    "        print(\"*\",end=\"\")\n",
    "        j+=1\n",
    "    print()\n",
    "    i+=1"
   ]
  },
  {
   "cell_type": "code",
   "execution_count": 6,
   "id": "d8810795-cbb3-4bcb-9b41-57494b85b694",
   "metadata": {},
   "outputs": [
    {
     "name": "stdin",
     "output_type": "stream",
     "text": [
      "Enter Rows:  3\n",
      "Enter Columns:  4\n"
     ]
    },
    {
     "name": "stdout",
     "output_type": "stream",
     "text": [
      "****\n",
      "*  *\n",
      "****\n"
     ]
    }
   ],
   "source": [
    "# Hollow Rectangle\n",
    "rows = int(input(\"Enter Rows: \"))\n",
    "columns = int(input(\"Enter Columns: \"))\n",
    "\n",
    "i = 1\n",
    "j = 1\n",
    "while i <= rows:\n",
    "    while j <= columns:\n",
    "        if i == 1 or i == rows or j == 1 or j == columns:\n",
    "            print(\"*\", end=\"\")\n",
    "        else:\n",
    "            print(\" \", end=\"\")\n",
    "        j += 1\n",
    "    print()\n",
    "    i += 1\n",
    "    j = 1\n"
   ]
  },
  {
   "cell_type": "code",
   "execution_count": 7,
   "id": "2cba0207-9094-46ab-b406-5a525724dc58",
   "metadata": {},
   "outputs": [
    {
     "name": "stdin",
     "output_type": "stream",
     "text": [
      "Enter Rows:  4\n"
     ]
    },
    {
     "name": "stdout",
     "output_type": "stream",
     "text": [
      "   ****\n",
      "  ****\n",
      " ****\n",
      "****\n"
     ]
    }
   ],
   "source": [
    "# Solid Rombus\n",
    "rows = int(input(\"Enter Rows: \"))\n",
    "i=1\n",
    "while i<=rows:\n",
    "    j=1\n",
    "    while j<=(rows-i):\n",
    "        print(\" \",end=\"\")\n",
    "        j+=1\n",
    "    j=1    \n",
    "    while j<=rows:\n",
    "        print(\"*\",end=\"\")\n",
    "        j+=1\n",
    "    print()\n",
    "    i+=1\n",
    "        \n"
   ]
  },
  {
   "cell_type": "code",
   "execution_count": 12,
   "id": "f61f4bee-0a6d-4aed-809c-45276875916c",
   "metadata": {},
   "outputs": [
    {
     "name": "stdout",
     "output_type": "stream",
     "text": [
      "10\n",
      "9\n",
      "8\n",
      "7\n",
      "6\n",
      "5\n",
      "4\n",
      "3\n",
      "2\n",
      "1\n"
     ]
    }
   ],
   "source": [
    "# Q7 \n",
    "n=10\n",
    "while n<=10 and n>0:\n",
    "    print(n)\n",
    "    n-=1"
   ]
  },
  {
   "cell_type": "code",
   "execution_count": 13,
   "id": "230a0f1e-5659-4763-9459-70e1035b74fa",
   "metadata": {},
   "outputs": [
    {
     "name": "stdout",
     "output_type": "stream",
     "text": [
      "10\n",
      "9\n",
      "8\n",
      "7\n",
      "6\n",
      "5\n",
      "4\n",
      "3\n",
      "2\n",
      "1\n"
     ]
    }
   ],
   "source": [
    "#Q8 \n",
    "# Q7 and Q8 are same \n",
    "n=10\n",
    "while n<=10 and n>0:\n",
    "    print(n)\n",
    "    n-=1"
   ]
  },
  {
   "cell_type": "code",
   "execution_count": null,
   "id": "b5b1da92-79ab-4321-90a5-bd98cb3b3afa",
   "metadata": {},
   "outputs": [],
   "source": []
  },
  {
   "cell_type": "code",
   "execution_count": null,
   "id": "a1dac661-74e4-4a3c-a1cd-4600c9bb4fff",
   "metadata": {},
   "outputs": [],
   "source": []
  },
  {
   "cell_type": "code",
   "execution_count": null,
   "id": "3a123207-734a-492f-8569-be5ebee3b0bf",
   "metadata": {},
   "outputs": [],
   "source": []
  },
  {
   "cell_type": "code",
   "execution_count": null,
   "id": "5f74b9aa-2c55-4980-82a5-231a2e648acf",
   "metadata": {},
   "outputs": [],
   "source": []
  },
  {
   "cell_type": "code",
   "execution_count": null,
   "id": "6923c684-fe07-4694-8cab-51e10590b97e",
   "metadata": {},
   "outputs": [],
   "source": []
  },
  {
   "cell_type": "code",
   "execution_count": null,
   "id": "a0c3bd94-57b2-43f1-bd0e-58c83dfc35ba",
   "metadata": {},
   "outputs": [],
   "source": []
  },
  {
   "cell_type": "code",
   "execution_count": null,
   "id": "bac7ea0b-b764-42b9-96d3-08020f6372e6",
   "metadata": {},
   "outputs": [],
   "source": []
  },
  {
   "cell_type": "code",
   "execution_count": null,
   "id": "cb3f4899-eaec-4198-abf1-15e3b517e6a7",
   "metadata": {},
   "outputs": [],
   "source": []
  },
  {
   "cell_type": "code",
   "execution_count": null,
   "id": "030f9427-c0fb-4711-ad2a-740b6257b859",
   "metadata": {},
   "outputs": [],
   "source": []
  },
  {
   "cell_type": "code",
   "execution_count": null,
   "id": "ce3f3706-200d-4949-a615-1fcd26f39969",
   "metadata": {},
   "outputs": [],
   "source": []
  },
  {
   "cell_type": "code",
   "execution_count": null,
   "id": "8042b62a-efcd-46f2-95c1-3b587ab4151f",
   "metadata": {},
   "outputs": [],
   "source": []
  },
  {
   "cell_type": "code",
   "execution_count": null,
   "id": "6496553d-5547-45a6-b3b9-abacda7c22e0",
   "metadata": {},
   "outputs": [],
   "source": [
    "\n"
   ]
  }
 ],
 "metadata": {
  "kernelspec": {
   "display_name": "Python 3 (ipykernel)",
   "language": "python",
   "name": "python3"
  },
  "language_info": {
   "codemirror_mode": {
    "name": "ipython",
    "version": 3
   },
   "file_extension": ".py",
   "mimetype": "text/x-python",
   "name": "python",
   "nbconvert_exporter": "python",
   "pygments_lexer": "ipython3",
   "version": "3.10.8"
  }
 },
 "nbformat": 4,
 "nbformat_minor": 5
}
