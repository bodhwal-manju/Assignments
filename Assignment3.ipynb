{
 "cells": [
  {
   "cell_type": "code",
   "execution_count": 6,
   "id": "5c7991f8-70cb-4ae8-9fb0-931995261f64",
   "metadata": {},
   "outputs": [
    {
     "name": "stdout",
     "output_type": "stream",
     "text": [
      "Sorted list of tuples based on integer value: \n",
      "[('Virat Kohli', 24936), ('Jack Kallis', 25534), ('Ricky Ponting', 27483), ('Sachin Tendulkar', 34357)]\n"
     ]
    }
   ],
   "source": [
    "l=[('Sachin Tendulkar', 34357), ('Ricky Ponting', 27483), ('Jack Kallis', 25534), ('Virat Kohli', 24936)]\n",
    "sorted_tuple_list =sorted(l,key=lambda x:x[1])\n",
    "\n",
    "print(\"Sorted list of tuples based on integer value: \")\n",
    "print(sorted_tuple_list)"
   ]
  },
  {
   "cell_type": "code",
   "execution_count": 25,
   "id": "71dc6018-b6e1-4842-a360-905f3cd80fb4",
   "metadata": {},
   "outputs": [
    {
     "name": "stdout",
     "output_type": "stream",
     "text": [
      "[1, 4, 9, 16, 25, 36, 49, 64, 81, 100]\n",
      "[1, 4, 9, 16, 25, 36, 49, 64, 81, 100]\n",
      "[1, 4, 9, 16, 25, 36, 49, 64, 81, 100]\n"
     ]
    }
   ],
   "source": [
    "l=[1,2,3,4,5,6,7,8,9,10]\n",
    "def sqr(x):\n",
    "    return x**2\n",
    "result=list(map(sqr,l))\n",
    "print(result)\n",
    "\n",
    "\"OR\"\n",
    "\n",
    "def square():\n",
    "    result=list(lambda a:a**2)\n",
    "print(result)\n",
    "\n",
    "\"oR\"\n",
    "\n",
    "squared_numbers=list(map(lambda x:x**2,l))\n",
    "print(squared_numbers)"
   ]
  },
  {
   "cell_type": "code",
   "execution_count": 24,
   "id": "0d0fe926-3e6f-4b4c-bac1-2a209877dac0",
   "metadata": {},
   "outputs": [
    {
     "name": "stdout",
     "output_type": "stream",
     "text": [
      "('1', '2', '3', '4', '5', '6', '7', '8', '9', '10')\n"
     ]
    }
   ],
   "source": [
    "string= [1, 2, 3, 4, 5, 6, 7, 8, 9, 10]\n",
    "result=tuple(map(lambda x:str(x),string))    \n",
    "print(result)"
   ]
  },
  {
   "cell_type": "code",
   "execution_count": 51,
   "id": "76155b1a-5a3a-42c3-84c4-54bde30cbfcc",
   "metadata": {},
   "outputs": [
    {
     "name": "stdout",
     "output_type": "stream",
     "text": [
      "15511210043330985984000000\n"
     ]
    }
   ],
   "source": [
    "from functools import reduce\n",
    "\n",
    "def multiply(x, y):\n",
    "    return x * y\n",
    "\n",
    "l = [1,2,3,4,5,6,7,8,9,10,11,12,13,14,15,16,17,18,19,20,21,22,23,24,25]#l=list(range(1,26))\n",
    "result = reduce(multiply, l)\n",
    "print(result)\n",
    "\n"
   ]
  },
  {
   "cell_type": "code",
   "execution_count": 1,
   "id": "031eb3a1-bc6f-448c-bb07-77220fc38908",
   "metadata": {},
   "outputs": [
    {
     "name": "stdout",
     "output_type": "stream",
     "text": [
      "[2, 3, 6, 9, 27, 60, 90, 120, 46]\n"
     ]
    }
   ],
   "source": [
    "def division_check(num):\n",
    "    if num%2 & num%3==0:\n",
    "        return True\n",
    "numbers=[2, 3, 6, 9, 27, 60, 90, 120, 55, 46]\n",
    "result=list(filter(division_check,numbers))\n",
    "print(result)"
   ]
  },
  {
   "cell_type": "code",
   "execution_count": null,
   "id": "c6206ba1-2edf-49de-9ba9-2a2babef18ec",
   "metadata": {},
   "outputs": [],
   "source": [
    "l=['python', 'php', 'aba', 'radar', 'level']\n",
    "palindromes=list()\n"
   ]
  }
 ],
 "metadata": {
  "kernelspec": {
   "display_name": "Python 3 (ipykernel)",
   "language": "python",
   "name": "python3"
  },
  "language_info": {
   "codemirror_mode": {
    "name": "ipython",
    "version": 3
   },
   "file_extension": ".py",
   "mimetype": "text/x-python",
   "name": "python",
   "nbconvert_exporter": "python",
   "pygments_lexer": "ipython3",
   "version": "3.10.8"
  }
 },
 "nbformat": 4,
 "nbformat_minor": 5
}
