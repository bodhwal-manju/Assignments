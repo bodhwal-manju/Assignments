{
 "cells": [
  {
   "cell_type": "markdown",
   "id": "b9106d5f-3d5d-4baf-9d54-24d6403dd657",
   "metadata": {},
   "source": [
    "Consider the below code to answer further questions:"
   ]
  },
  {
   "cell_type": "code",
   "execution_count": 1,
   "id": "dc8c4dec-73f5-4fc3-97d2-dc9725d94bd1",
   "metadata": {},
   "outputs": [],
   "source": [
    "import numpy as np     \n",
    "list_ = [ '1' , '2', '3', '4', '5']     \n",
    "array_list = np.array(object = list_)"
   ]
  },
  {
   "cell_type": "markdown",
   "id": "2beba671-0eb8-4328-8fd8-220f5562bd41",
   "metadata": {},
   "source": [
    "# Q1. Is there any difference in the data type of variables list_ and array_list? If there is then write a code to print the data types of both the variables."
   ]
  },
  {
   "cell_type": "code",
   "execution_count": 2,
   "id": "9a563bab-6398-42f1-a169-2931a80483f4",
   "metadata": {},
   "outputs": [
    {
     "data": {
      "text/plain": [
       "list"
      ]
     },
     "execution_count": 2,
     "metadata": {},
     "output_type": "execute_result"
    }
   ],
   "source": [
    "type(list_)"
   ]
  },
  {
   "cell_type": "code",
   "execution_count": 3,
   "id": "6d931144-9261-45fe-94ea-3c0a859cc096",
   "metadata": {},
   "outputs": [
    {
     "data": {
      "text/plain": [
       "<function ndarray.astype>"
      ]
     },
     "execution_count": 3,
     "metadata": {},
     "output_type": "execute_result"
    }
   ],
   "source": [
    "array_list.astype"
   ]
  },
  {
   "cell_type": "markdown",
   "id": "6ed3f868-0d17-4539-b941-9ba4d47dc857",
   "metadata": {},
   "source": [
    "# Q2. Write a code to print the data type of each and every element of both the variables list_ and arra_list."
   ]
  },
  {
   "cell_type": "code",
   "execution_count": 4,
   "id": "60425fd7-a571-403a-84c1-3abd87d70c96",
   "metadata": {},
   "outputs": [
    {
     "name": "stdout",
     "output_type": "stream",
     "text": [
      "<class 'str'>\n",
      "<class 'str'>\n",
      "<class 'str'>\n",
      "<class 'str'>\n",
      "<class 'str'>\n"
     ]
    }
   ],
   "source": [
    "for i in list_:\n",
    "    print(type(i))"
   ]
  },
  {
   "cell_type": "code",
   "execution_count": 5,
   "id": "3a398593-b5f5-4648-b55c-19addb44d589",
   "metadata": {},
   "outputs": [
    {
     "name": "stdout",
     "output_type": "stream",
     "text": [
      "<class 'numpy.str_'>\n",
      "<class 'numpy.str_'>\n",
      "<class 'numpy.str_'>\n",
      "<class 'numpy.str_'>\n",
      "<class 'numpy.str_'>\n"
     ]
    }
   ],
   "source": [
    "for i in array_list:\n",
    "    print(type(i))"
   ]
  },
  {
   "cell_type": "markdown",
   "id": "f05eccc0-e62e-4269-bb16-b86f941067e8",
   "metadata": {},
   "source": [
    "# Q3. Considering the following changes in the variable, array_list:"
   ]
  },
  {
   "cell_type": "code",
   "execution_count": 7,
   "id": "ad86d740-e2f1-43bb-bbf3-88f98f55ef56",
   "metadata": {},
   "outputs": [],
   "source": [
    "array_list = np.array(object = list_, dtype = int)"
   ]
  },
  {
   "cell_type": "markdown",
   "id": "de20b729-33de-40f7-a672-84c8251c7bb1",
   "metadata": {},
   "source": [
    "Will there be any difference in the data type of the elements present in both the variables, list_ and arra_list? If so then print the data types of each and every element present in both the variables, list__ and arra_list. Consider the below code to answer further questions:"
   ]
  },
  {
   "cell_type": "code",
   "execution_count": 8,
   "id": "857fb46f-be0f-47d6-ac56-df7844e5eae2",
   "metadata": {},
   "outputs": [
    {
     "name": "stdout",
     "output_type": "stream",
     "text": [
      "List elements type : <class 'int'>\n",
      "List elements type : <class 'int'>\n",
      "List elements type : <class 'int'>\n",
      "List elements type : <class 'int'>\n",
      "List elements type : <class 'int'>\n",
      "List elements type : <class 'int'>\n",
      "---------------------###--------------------\n",
      "Array element type : int64\n",
      "Array element type : int64\n",
      "Array element type : int64\n",
      "Array element type : int64\n",
      "Array element type : int64\n",
      "Array element type : int64\n"
     ]
    }
   ],
   "source": [
    "import numpy as np                    \n",
    "num_list = [ [ 1, 2, 3], [4, 5, 6]]        \n",
    "num_array = np.array(object = num_list)  \n",
    "for i in num_list:\n",
    "    if type(i)== list:\n",
    "        for j in i:print(f'List elements type : {type(j)}')\n",
    "    else:print(f'List elements type : {type(i)}')\n",
    "print(\"---------------------###--------------------\")\n",
    "\n",
    "num_array1 = num_array.flatten()\n",
    "for i in num_array1:\n",
    "    print(f'Array element type : {i.dtype}')\n",
    "#     print(type(i))"
   ]
  },
  {
   "cell_type": "markdown",
   "id": "97fe721e-aca0-4fda-ba7f-a92fcd0e82e2",
   "metadata": {},
   "source": [
    "# Q4. Write a code to find the following characteristics of variable, num_array: (i) shape"
   ]
  },
  {
   "cell_type": "code",
   "execution_count": 9,
   "id": "f995c4ca-8e42-471c-b081-3639df68d60c",
   "metadata": {},
   "outputs": [
    {
     "data": {
      "text/plain": [
       "array([[1, 2, 3],\n",
       "       [4, 5, 6]])"
      ]
     },
     "metadata": {},
     "output_type": "display_data"
    },
    {
     "data": {
      "text/plain": [
       "(2, 3)"
      ]
     },
     "execution_count": 9,
     "metadata": {},
     "output_type": "execute_result"
    }
   ],
   "source": [
    "display(num_array)\n",
    "num_array.shape                    # row, and column"
   ]
  },
  {
   "cell_type": "markdown",
   "id": "45c42f71-cb5f-4ab4-8373-200de91ea8a2",
   "metadata": {},
   "source": [
    "(ii) size"
   ]
  },
  {
   "cell_type": "code",
   "execution_count": 10,
   "id": "078a8b6d-f26d-426a-8f44-8fbd6a1c13b5",
   "metadata": {},
   "outputs": [
    {
     "data": {
      "text/plain": [
       "array([[1, 2, 3],\n",
       "       [4, 5, 6]])"
      ]
     },
     "metadata": {},
     "output_type": "display_data"
    },
    {
     "data": {
      "text/plain": [
       "6"
      ]
     },
     "execution_count": 10,
     "metadata": {},
     "output_type": "execute_result"
    }
   ],
   "source": [
    "display(num_array)\n",
    "num_array.size                      # row * column"
   ]
  },
  {
   "cell_type": "markdown",
   "id": "02bf6793-a0f9-4b6c-81fb-61fc6d5c4a3f",
   "metadata": {},
   "source": [
    "# Q5. Write a code to create numpy array of 3*3 matrix containing zeros only, using a numpy array creation function. [Hint: The size of the array will be 9 and the shape will be (3,3).]"
   ]
  },
  {
   "cell_type": "code",
   "execution_count": 11,
   "id": "a4fb7daf-461a-4d35-83af-b25d7d0476f4",
   "metadata": {},
   "outputs": [
    {
     "data": {
      "text/plain": [
       "array([[0., 0., 0.],\n",
       "       [0., 0., 0.],\n",
       "       [0., 0., 0.]])"
      ]
     },
     "execution_count": 11,
     "metadata": {},
     "output_type": "execute_result"
    }
   ],
   "source": [
    "arr = np.zeros([3,3])\n",
    "arr"
   ]
  },
  {
   "cell_type": "markdown",
   "id": "9604c0e4-2dff-4b9e-9a0b-237c7300b89d",
   "metadata": {},
   "source": [
    "# Q6. Create an identity matrix of shape (5,5) using numpy functions? [Hint: An identity matrix is a matrix containing 1 diagonally and other elements will be 0.]"
   ]
  },
  {
   "cell_type": "code",
   "execution_count": 12,
   "id": "61cd4a0b-c86a-43c7-9d57-d52679b7d26c",
   "metadata": {},
   "outputs": [
    {
     "data": {
      "text/plain": [
       "array([[1., 0., 0., 0., 0.],\n",
       "       [0., 1., 0., 0., 0.],\n",
       "       [0., 0., 1., 0., 0.],\n",
       "       [0., 0., 0., 1., 0.],\n",
       "       [0., 0., 0., 0., 1.]])"
      ]
     },
     "execution_count": 12,
     "metadata": {},
     "output_type": "execute_result"
    }
   ],
   "source": [
    "five_ele = np.ones(5)\n",
    "arr1 = np.diag(five_ele)\n",
    "arr1"
   ]
  },
  {
   "cell_type": "code",
   "execution_count": 13,
   "id": "5f344955-d04d-4d25-9ad5-80675c7c861b",
   "metadata": {},
   "outputs": [
    {
     "data": {
      "text/plain": [
       "(5, 5)"
      ]
     },
     "execution_count": 13,
     "metadata": {},
     "output_type": "execute_result"
    }
   ],
   "source": [
    "arr1.shape"
   ]
  },
  {
   "cell_type": "code",
   "execution_count": null,
   "id": "75c00a8e-477a-4d5b-a506-994ca6796d16",
   "metadata": {},
   "outputs": [],
   "source": []
  }
 ],
 "metadata": {
  "kernelspec": {
   "display_name": "Python 3 (ipykernel)",
   "language": "python",
   "name": "python3"
  },
  "language_info": {
   "codemirror_mode": {
    "name": "ipython",
    "version": 3
   },
   "file_extension": ".py",
   "mimetype": "text/x-python",
   "name": "python",
   "nbconvert_exporter": "python",
   "pygments_lexer": "ipython3",
   "version": "3.10.8"
  }
 },
 "nbformat": 4,
 "nbformat_minor": 5
}
