{
 "cells": [
  {
   "cell_type": "markdown",
   "id": "fa6b1ae2-491b-4f41-bfb9-72dde10612cb",
   "metadata": {},
   "source": [
    "# Q1. What is multithreading in python? Why is it used? Name the module used to handle threads in python."
   ]
  },
  {
   "cell_type": "markdown",
   "id": "1f8db63e-38a1-4df0-a69f-ae69aad47e6b",
   "metadata": {},
   "source": [
    "Ans:\n",
    "\n",
    "Thread is called task, So multithreading is a process to work on multiple task at a time.\n",
    "It is used to save the time and work do first, suppose If you want to upload 10 videos on database and there is not need a sequence for uploading then use multithreading to upload video."
   ]
  },
  {
   "cell_type": "code",
   "execution_count": 1,
   "id": "88d5db5c-2f40-4af6-8356-b649cb3ef63a",
   "metadata": {},
   "outputs": [],
   "source": [
    "import threading        # threading module"
   ]
  },
  {
   "cell_type": "markdown",
   "id": "3da39c13-e13a-4f52-a21f-dcc60ab6b7cc",
   "metadata": {},
   "source": [
    "# Q2. Why threading module used? Write the use of the following functions:\n",
    "\n",
    "activeCount()\n",
    "\n",
    "currentThread()\n",
    "\n",
    "enumerate()"
   ]
  },
  {
   "cell_type": "markdown",
   "id": "c61927cc-e5b2-40a1-a365-18b1f976cc13",
   "metadata": {},
   "source": [
    "Ans :\n",
    "threading is a module used to do multiple task on same time. threading creates number of thread to execute task.\n",
    "\n",
    "threading.activeCount() : Return the number of Thread objects currently working.\n",
    "threading.currentThread() : Return current thread ID and his name, you can get name by using threading.current_thread().getName()\n",
    "threading.enumerate() : The enumerate() function returns a list of all currently active Thread objects.\n"
   ]
  },
  {
   "cell_type": "code",
   "execution_count": 2,
   "id": "7887fb2b-9c17-47f0-b224-1c157bade7fe",
   "metadata": {},
   "outputs": [
    {
     "name": "stdout",
     "output_type": "stream",
     "text": [
      "Thread is running\n",
      "Thread is running\n",
      "Hi\n"
     ]
    },
    {
     "name": "stderr",
     "output_type": "stream",
     "text": [
      "/tmp/ipykernel_84/1970884747.py:9: DeprecationWarning: activeCount() is deprecated, use active_count() instead\n",
      "  threading.activeCount()\n"
     ]
    },
    {
     "data": {
      "text/plain": [
       "8"
      ]
     },
     "execution_count": 2,
     "metadata": {},
     "output_type": "execute_result"
    }
   ],
   "source": [
    "from threading import Thread\n",
    "def runThr():\n",
    "    print('Thread is running')\n",
    "t = Thread(target=runThr)\n",
    "t1 = Thread(target=runThr)\n",
    "t.start()\n",
    "t1.start()\n",
    "print('Hi')\n",
    "threading.activeCount()"
   ]
  },
  {
   "cell_type": "code",
   "execution_count": 3,
   "id": "202ce3c6-20a7-4c84-a66a-62c38be62ca7",
   "metadata": {},
   "outputs": [
    {
     "name": "stdout",
     "output_type": "stream",
     "text": [
      "Thread is running\n",
      "<Thread(Thread-7 (runThr), started 140449003050560)>\n",
      "Thread is running\n",
      "<Thread(Thread-8 (runThr), started 140449003050560)>\n",
      "Hi\n"
     ]
    },
    {
     "name": "stderr",
     "output_type": "stream",
     "text": [
      "/tmp/ipykernel_84/1279871153.py:4: DeprecationWarning: currentThread() is deprecated, use current_thread() instead\n",
      "  print(threading.currentThread())\n",
      "/tmp/ipykernel_84/1279871153.py:12: DeprecationWarning: currentThread() is deprecated, use current_thread() instead\n",
      "  threading.currentThread()\n"
     ]
    },
    {
     "data": {
      "text/plain": [
       "<_MainThread(MainThread, started 140449352132416)>"
      ]
     },
     "execution_count": 3,
     "metadata": {},
     "output_type": "execute_result"
    }
   ],
   "source": [
    "from threading import Thread\n",
    "def runThr():\n",
    "    print('Thread is running')\n",
    "    print(threading.currentThread())\n",
    "    \n",
    "    \n",
    "t = Thread(target=runThr)\n",
    "t1 = Thread(target=runThr)\n",
    "t.start()\n",
    "t1.start()\n",
    "print('Hi')\n",
    "threading.currentThread()"
   ]
  },
  {
   "cell_type": "code",
   "execution_count": 4,
   "id": "625ab78b-ca13-4b19-98f4-a74d2997ebe0",
   "metadata": {},
   "outputs": [
    {
     "name": "stdout",
     "output_type": "stream",
     "text": [
      "<_MainThread(MainThread, started 140449352132416)> \n",
      "\n",
      "<Thread(IOPub, started daemon 140449281603136)> \n",
      "\n",
      "<Heartbeat(Heartbeat, started daemon 140449273210432)> \n",
      "\n",
      "<Thread(Thread-3 (_watch_pipe_fd), started daemon 140449046062656)> \n",
      "\n",
      "<Thread(Thread-4 (_watch_pipe_fd), started daemon 140449037669952)> \n",
      "\n",
      "<ControlThread(Control, started daemon 140449029277248)> \n",
      "\n",
      "<HistorySavingThread(IPythonHistorySavingThread, started 140449020884544)> \n",
      "\n",
      "<ParentPollerUnix(Thread-2, started daemon 140449011443264)> \n",
      "\n"
     ]
    }
   ],
   "source": [
    "result = threading.enumerate()\n",
    "for i in result:\n",
    "    print(i,'\\n')"
   ]
  },
  {
   "cell_type": "markdown",
   "id": "53324de0-de59-4623-8d5c-862484a8802e",
   "metadata": {},
   "source": [
    "# Q3. Explain the following functions:\n",
    "\n",
    "run()\n",
    "\n",
    "start()\n",
    "\n",
    "join()\n",
    "\n",
    "isAlive()"
   ]
  },
  {
   "cell_type": "markdown",
   "id": "d0e1465a-da62-4376-95ea-87357af7e883",
   "metadata": {},
   "source": [
    "Ans :\n",
    "\n",
    "run() : Every thread will run this method when thread is started. We can override this method and write our own code as body of the method. A thread will terminate automatically when it comes out of the run() Method.\n",
    "start() : This function used to start a thread when thread is created.\n",
    "join() : This function used to hold next thread untill complete current theread execution.\n",
    "isAlive() : This function replace with is_alive() function, It is used to check whether a thread is currently running or not.\n"
   ]
  },
  {
   "cell_type": "markdown",
   "id": "7fe5d6db-6134-4f6f-929f-8620251ba695",
   "metadata": {},
   "source": [
    "# Q4. Write a python program to create two threads. Thread one must print the list of squares and thread two must print the list of cubes.\n"
   ]
  },
  {
   "cell_type": "code",
   "execution_count": 5,
   "id": "e7be222d-ebf6-4551-b7e8-ff9b57f7f00e",
   "metadata": {},
   "outputs": [],
   "source": [
    "List = [2,3,4,5,5,6,7,4]"
   ]
  },
  {
   "cell_type": "code",
   "execution_count": 6,
   "id": "836cfb37-1e5b-464a-9541-3b14476d6662",
   "metadata": {},
   "outputs": [
    {
     "name": "stdout",
     "output_type": "stream",
     "text": [
      "[4, 9, 16, 25, 25, 36, 49, 16]\n"
     ]
    }
   ],
   "source": [
    "import threading\n",
    "square = []\n",
    "def test(a):\n",
    "    square.append(a**2)\n",
    "\n",
    "first_thread = [threading.Thread(target=test , args=(i,) )for i in List]\n",
    "for t in first_thread : \n",
    "    t.start()\n",
    "print(square)"
   ]
  },
  {
   "cell_type": "code",
   "execution_count": 7,
   "id": "b80ce95a-7b8d-42c8-8a9b-b52f82029eb5",
   "metadata": {},
   "outputs": [
    {
     "name": "stdout",
     "output_type": "stream",
     "text": [
      "[8, 27, 64, 125, 125, 216, 343, 64]\n"
     ]
    }
   ],
   "source": [
    "import threading\n",
    "cube = []\n",
    "def test(a):\n",
    "    cube.append(a**3)\n",
    "\n",
    "second_thread = [threading.Thread(target=test , args=(i,) )for i in List]\n",
    "for t in second_thread : \n",
    "    t.start()\n",
    "print(cube)"
   ]
  },
  {
   "cell_type": "markdown",
   "id": "52099516-f2e4-42d2-b47b-e7c51c8472d5",
   "metadata": {},
   "source": [
    "# Q5. State advantages and disadvantages of multithreading.\n"
   ]
  },
  {
   "cell_type": "markdown",
   "id": "148bbc5c-6615-4d7c-96c8-abff90cb643b",
   "metadata": {},
   "source": [
    "Advantages\t\n",
    "Improved performance\t\n",
    "Reduced idle time or processing time\t\n",
    "Concurrent execution\n",
    "Responsiveness\n",
    "\n",
    "\n",
    "Advantages\tDisadvantages\n",
    "Global Interpreter Lock\n",
    "Increased memory usage\n",
    "Thread safety issues\n",
    "Increased complexity"
   ]
  },
  {
   "cell_type": "markdown",
   "id": "41cf2bd8-5d9e-4d24-b2f5-920b62e232fc",
   "metadata": {},
   "source": [
    "# Q6. Explain deadlocks and race conditions.\n"
   ]
  },
  {
   "cell_type": "markdown",
   "id": "a5756181-7e2b-4df4-b382-675c788da591",
   "metadata": {},
   "source": [
    "deadlocks : A deadlock is a situation where two or more threads are blocked and unable to proceed because both are waiting for a resource that the other thread is holding.\n",
    "race conditions : A race condition can occur when two or more threads access a shared variable without proper coordination\n",
    " "
   ]
  },
  {
   "cell_type": "code",
   "execution_count": null,
   "id": "532246b6-eb4a-43b3-a808-c0f9f10c0108",
   "metadata": {},
   "outputs": [],
   "source": []
  }
 ],
 "metadata": {
  "kernelspec": {
   "display_name": "Python 3 (ipykernel)",
   "language": "python",
   "name": "python3"
  },
  "language_info": {
   "codemirror_mode": {
    "name": "ipython",
    "version": 3
   },
   "file_extension": ".py",
   "mimetype": "text/x-python",
   "name": "python",
   "nbconvert_exporter": "python",
   "pygments_lexer": "ipython3",
   "version": "3.10.8"
  }
 },
 "nbformat": 4,
 "nbformat_minor": 5
}
