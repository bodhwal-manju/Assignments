{
 "cells": [
  {
   "cell_type": "code",
   "execution_count": 1,
   "id": "ab4bce39-2027-40a4-a752-330ebaa00795",
   "metadata": {},
   "outputs": [],
   "source": [
    "# Question: Explain with a an example each when to use a for loop and a while loop."
   ]
  },
  {
   "cell_type": "code",
   "execution_count": 2,
   "id": "e2c34f5e-2ea7-4699-8ebe-c9301d1f64a5",
   "metadata": {},
   "outputs": [
    {
     "name": "stdout",
     "output_type": "stream",
     "text": [
      "A While loop is used when a certain specified condition is true ,no matter how long (or how many times) loop runs .\n",
      "      It will keeps running till then specified condition is true and stops when condition becomes False.\n",
      "      Whereas a for loop runs to specified times. or number of iterations defined before loop starts\n"
     ]
    }
   ],
   "source": [
    "print(\"\"\"A While loop is used when a certain specified condition is true ,no matter how long (or how many times) loop runs .\n",
    "      It will keeps running till then specified condition is true and stops when condition becomes False.\n",
    "      Whereas a for loop runs to specified times. or number of iterations defined before loop starts\"\"\")"
   ]
  },
  {
   "cell_type": "code",
   "execution_count": 3,
   "id": "ac3a381e-ee9c-4ca5-b2f5-5d332da20df2",
   "metadata": {},
   "outputs": [],
   "source": [
    "#Write a python program to print the sum and product of the first 10 natural numbers using for\n",
    "#and while loop."
   ]
  },
  {
   "cell_type": "code",
   "execution_count": 16,
   "id": "ceadddc1-d5e0-48bf-99a0-de406ec0f122",
   "metadata": {},
   "outputs": [
    {
     "name": "stdout",
     "output_type": "stream",
     "text": [
      "55\n",
      "3628800\n"
     ]
    }
   ],
   "source": [
    "sum=0\n",
    "for i in range(1,11):\n",
    "       sum=sum+i\n",
    "print(sum)\n",
    "\n",
    "# product\n",
    "\n",
    "product=1\n",
    "for i in range(1,11):\n",
    "    product= product*i\n",
    "print(product)"
   ]
  },
  {
   "cell_type": "code",
   "execution_count": 17,
   "id": "a1b6c3cc-cf14-49e9-91aa-3c33d71240e0",
   "metadata": {},
   "outputs": [],
   "source": [
    "#Q3. Create a python program to compute the electricity bill for a household.\n"
   ]
  },
  {
   "cell_type": "code",
   "execution_count": 19,
   "id": "d01b792e-8457-4566-af4f-988071d77cac",
   "metadata": {},
   "outputs": [
    {
     "name": "stdin",
     "output_type": "stream",
     "text": [
      " 310\n"
     ]
    },
    {
     "name": "stdout",
     "output_type": "stream",
     "text": [
      "2250.0\n"
     ]
    }
   ],
   "source": [
    "units=int(input())\n",
    "\n",
    "if units<=100:\n",
    "    charge=4.5*units\n",
    "    print(charge)\n",
    "    \n",
    "elif units<=200:\n",
    "    charge=4.5*100+6*(units-100)\n",
    "    print(charge)\n",
    "    \n",
    "elif units<=300:\n",
    "    charge=4.5*100+6*100+(units-200)*10\n",
    "    print(charge)\n",
    "    \n",
    "else:\n",
    "    charge= 4.5*100+6*100+10*100+(units-300)*20\n",
    "    print(charge)\n",
    "    \n",
    "    "
   ]
  },
  {
   "cell_type": "code",
   "execution_count": 27,
   "id": "dc330b15-0e3f-46a3-b4e6-433b3b85d426",
   "metadata": {},
   "outputs": [
    {
     "name": "stdout",
     "output_type": "stream",
     "text": [
      "[8, 64, 216, 512, 1000, 1728, 2744, 4096, 5832, 8000, 10648, 13824, 17576, 21952, 27000, 32768, 39304, 46656, 54872, 64000, 74088, 85184, 97336, 110592, 125000, 140608, 157464, 175616, 195112, 216000, 238328, 262144, 287496, 314432, 343000, 373248, 405224, 438976, 474552, 512000, 551368, 592704, 636056, 681472, 729000, 778688, 830584, 884736, 941192, 1000000]\n"
     ]
    }
   ],
   "source": [
    "#using for loop:\n",
    "numbers=list(range(1,101))\n",
    "list1=[]\n",
    "for i in numbers:\n",
    "    cube=i*i*i\n",
    "    if cube%(4 or 5)==0:\n",
    "        list1.append(cube)\n",
    "print(list1)\n",
    "    "
   ]
  },
  {
   "cell_type": "code",
   "execution_count": null,
   "id": "193c3cda-2178-4db4-9a4c-d8c0860eda4f",
   "metadata": {},
   "outputs": [],
   "source": [
    "#Write a program to filter count vowels in the below-given string.\n",
    "#string = \"I want to become a data scientist\"\n",
    "\n"
   ]
  },
  {
   "cell_type": "code",
   "execution_count": 28,
   "id": "25910703-f6bf-4033-aa18-fcaaf5a80821",
   "metadata": {},
   "outputs": [
    {
     "name": "stdout",
     "output_type": "stream",
     "text": [
      "12\n"
     ]
    }
   ],
   "source": [
    "string=\"I Want to become a data scientist\"\n",
    "\n",
    "vowel_count=0\n",
    "vowels=\"aeiouAEIOU\"\n",
    "\n",
    "for char in string:\n",
    "    if char in vowels:\n",
    "        vowel_count+=1\n",
    "print(vowel_count)      "
   ]
  },
  {
   "cell_type": "code",
   "execution_count": null,
   "id": "a81b73a7-2bdd-43f0-b6d6-8ab54d5ba26f",
   "metadata": {},
   "outputs": [],
   "source": []
  }
 ],
 "metadata": {
  "kernelspec": {
   "display_name": "Python 3 (ipykernel)",
   "language": "python",
   "name": "python3"
  },
  "language_info": {
   "codemirror_mode": {
    "name": "ipython",
    "version": 3
   },
   "file_extension": ".py",
   "mimetype": "text/x-python",
   "name": "python",
   "nbconvert_exporter": "python",
   "pygments_lexer": "ipython3",
   "version": "3.10.8"
  }
 },
 "nbformat": 4,
 "nbformat_minor": 5
}
