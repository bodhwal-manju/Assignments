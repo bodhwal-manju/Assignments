{
 "cells": [
  {
   "cell_type": "code",
   "execution_count": 1,
   "id": "44f80a67-a17e-43b5-ae96-9b1a6c12bf09",
   "metadata": {},
   "outputs": [
    {
     "data": {
      "text/plain": [
       "'Guido van Rossum developed python programing language'"
      ]
     },
     "execution_count": 1,
     "metadata": {},
     "output_type": "execute_result"
    }
   ],
   "source": [
    "\"Guido van Rossum developed python programing language\""
   ]
  },
  {
   "cell_type": "code",
   "execution_count": 3,
   "id": "1c9e6334-5a59-46ea-818b-3198119d507c",
   "metadata": {},
   "outputs": [
    {
     "data": {
      "text/plain": [
       "'Python support Object -Oriented programing , structured programming,functional programming,Aspect-oriented programming,Metaprogramming'"
      ]
     },
     "execution_count": 3,
     "metadata": {},
     "output_type": "execute_result"
    }
   ],
   "source": [
    "\"Python support Object -Oriented programing , structured programming,functional programming,Aspect-oriented programming,Metaprogramming\""
   ]
  },
  {
   "cell_type": "code",
   "execution_count": 4,
   "id": "47ac9918-2227-4867-a42c-7dc1661b62b8",
   "metadata": {},
   "outputs": [
    {
     "name": "stdout",
     "output_type": "stream",
     "text": [
      "1\n",
      "2\n"
     ]
    }
   ],
   "source": [
    "\"yes python is case sensitive when dealing with identifiers\"\n",
    "\n",
    "me=1\n",
    "Me=2\n",
    "print(me)\n",
    "print(Me)"
   ]
  },
  {
   "cell_type": "code",
   "execution_count": 5,
   "id": "0d1ecbee-0a5c-4015-926a-a86430043480",
   "metadata": {},
   "outputs": [
    {
     "data": {
      "text/plain": [
       "\"The correct extension for a python file is '.py'\""
      ]
     },
     "execution_count": 5,
     "metadata": {},
     "output_type": "execute_result"
    }
   ],
   "source": [
    "\"The correct extension for a python file is '.py'\""
   ]
  },
  {
   "cell_type": "code",
   "execution_count": 8,
   "id": "25dc505d-1a97-4385-842f-6911266969f9",
   "metadata": {},
   "outputs": [
    {
     "data": {
      "text/plain": [
       "'python is an interpreted language ,\\nwhich means that the Python interpreter executes code directly,\\nwithout the need for a seperate compilation step.\\nwhen we run the python program,the interpreter reads the source code and executes\\nit line by line\\nBut it can also be compiled to bytecode for improved performance'"
      ]
     },
     "execution_count": 8,
     "metadata": {},
     "output_type": "execute_result"
    }
   ],
   "source": [
    "\"\"\"python is an interpreted language ,\n",
    "which means that the Python interpreter executes code directly,\n",
    "without the need for a seperate compilation step.\n",
    "when we run the python program,the interpreter reads the source code and executes\n",
    "it line by line\n",
    "But it can also be compiled to bytecode for improved performance\"\"\""
   ]
  },
  {
   "cell_type": "code",
   "execution_count": 9,
   "id": "bf8447c1-9537-437e-a2c6-6ffe00d51d53",
   "metadata": {},
   "outputs": [
    {
     "ename": "IndentationError",
     "evalue": "expected an indented block after function definition on line 3 (3976492002.py, line 7)",
     "output_type": "error",
     "traceback": [
      "\u001b[0;36m  Cell \u001b[0;32mIn[9], line 7\u001b[0;36m\u001b[0m\n\u001b[0;31m    if x>1:\u001b[0m\n\u001b[0m    ^\u001b[0m\n\u001b[0;31mIndentationError\u001b[0m\u001b[0;31m:\u001b[0m expected an indented block after function definition on line 3\n"
     ]
    }
   ],
   "source": [
    "# here aare some comman blocks of code used in python\n",
    "#1) Function Block\n",
    "def function():\n",
    "    # code for function goes here\n",
    "    \n",
    "#2) Conditional block:\n",
    "if x>1:\n",
    "    # code goes here\n",
    "    \n",
    "#3) Loop block\n",
    "for i in range(1,10):\n",
    "    print(i)\n",
    "    # we can also use while loop here\n",
    "    \n",
    " #4)Exception block\n",
    "try:\n",
    "    # code raise an exception\n",
    "except TypeError:\n",
    "    # code for handling the error"
   ]
  },
  {
   "cell_type": "code",
   "execution_count": 10,
   "id": "323791fe-726e-4dd0-a8a8-af6f95b678d7",
   "metadata": {},
   "outputs": [
    {
     "data": {
      "text/plain": [
       "'# is used to give single-line comments in python'"
      ]
     },
     "execution_count": 10,
     "metadata": {},
     "output_type": "execute_result"
    }
   ],
   "source": [
    "\"# is used to give single-line comments in python\""
   ]
  },
  {
   "cell_type": "code",
   "execution_count": 12,
   "id": "a6e998b7-8afa-448d-84de-a01286d041e6",
   "metadata": {},
   "outputs": [
    {
     "name": "stdout",
     "output_type": "stream",
     "text": [
      "3.10.8 | packaged by conda-forge | (main, Nov 22 2022, 08:26:04) [GCC 10.4.0]\n"
     ]
    },
    {
     "data": {
      "text/plain": [
       "'to find out the version of python we are using we can use  the built-in sys module in python'"
      ]
     },
     "execution_count": 12,
     "metadata": {},
     "output_type": "execute_result"
    }
   ],
   "source": [
    "import sys\n",
    "print(sys.version)\n",
    "\n",
    "\"to find out the version of python we are using we can use  the built-in sys module in python\""
   ]
  },
  {
   "cell_type": "code",
   "execution_count": 13,
   "id": "65f9ba88-87e4-4d54-b44f-17c344e00af3",
   "metadata": {},
   "outputs": [
    {
     "data": {
      "text/plain": [
       "<function __main__.<lambda>(arguments)>"
      ]
     },
     "execution_count": 13,
     "metadata": {},
     "output_type": "execute_result"
    }
   ],
   "source": [
    "\"\"\"python supports the creation of anonymous functions at runtime using \n",
    "a construct called 'lambda functions'or'lambda expressions'\"\"\"\n",
    "lambda arguments:expression"
   ]
  },
  {
   "cell_type": "code",
   "execution_count": 16,
   "id": "e94abaab-2fbc-419a-9a0e-5dd921c06062",
   "metadata": {},
   "outputs": [
    {
     "data": {
      "text/plain": [
       "'pip stands for pip installs packages.Pip is a package management \\nsystem for python that allows you to easily install,upgrade,\\nand manage third-party packages and modules.\\nIt is used to install packages from the Python Package(PyPl) as well as\\nfrom other repositories.'"
      ]
     },
     "execution_count": 16,
     "metadata": {},
     "output_type": "execute_result"
    }
   ],
   "source": [
    "\"\"\"pip stands for pip installs packages.Pip is a package management \n",
    "system for python that allows you to easily install,upgrade,\n",
    "and manage third-party packages and modules.\n",
    "It is used to install packages from the Python Package(PyPl) as well as\n",
    "from other repositories.\"\"\"\n"
   ]
  },
  {
   "cell_type": "code",
   "execution_count": 19,
   "id": "a4baf53c-7312-442e-b9fe-8ebbec158c1d",
   "metadata": {},
   "outputs": [
    {
     "data": {
      "text/plain": [
       "'print()\\ntype()\\ninput()\\nlen()\\nint()\\nfloat()\\nrange()\\nmax()\\nmin()\\nsum()\\nsorted()\\nzip()'"
      ]
     },
     "execution_count": 19,
     "metadata": {},
     "output_type": "execute_result"
    }
   ],
   "source": [
    "\"\"\"print()\n",
    "type()\n",
    "input()\n",
    "len()\n",
    "int()\n",
    "float()\n",
    "range()\n",
    "max()\n",
    "min()\n",
    "sum()\n",
    "sorted()\n",
    "zip()\"\"\"\n",
    "# these are some examples of built in functions in python"
   ]
  },
  {
   "cell_type": "code",
   "execution_count": 20,
   "id": "24c024e5-1f05-4df4-8aa5-f2b6ddeda9b0",
   "metadata": {},
   "outputs": [
    {
     "data": {
      "text/plain": [
       "'the maximum length of an identifier is technically unlimited.\\nbut it is recommended to keep identifiers reasonably short \\nfor the sake of readability and maintanability of the code'"
      ]
     },
     "execution_count": 20,
     "metadata": {},
     "output_type": "execute_result"
    }
   ],
   "source": [
    "\"\"\"the maximum length of an identifier is technically unlimited.\n",
    "but it is recommended to keep identifiers reasonably short \n",
    "for the sake of readability and maintanability of the code\"\"\""
   ]
  },
  {
   "cell_type": "code",
   "execution_count": 21,
   "id": "f156b398-6ab8-4aa8-b33d-14a77b92b1c0",
   "metadata": {},
   "outputs": [
    {
     "data": {
      "text/plain": [
       "'1.) Ease to use\\n2) Large Standard library\\n3)Third party libraries\\n4)Cross-platform compatibility\\n5)Versatility'"
      ]
     },
     "execution_count": 21,
     "metadata": {},
     "output_type": "execute_result"
    }
   ],
   "source": [
    "\"\"\"1.) Ease to use\n",
    "2) Large Standard library\n",
    "3)Third party libraries\n",
    "4)Cross-platform compatibility\n",
    "5)Versatility\"\"\""
   ]
  },
  {
   "cell_type": "code",
   "execution_count": 1,
   "id": "d5a9af7e-8f6c-4b90-bc68-0ef4b2eda27c",
   "metadata": {},
   "outputs": [
    {
     "data": {
      "text/plain": [
       "'Memory management in Python is handled by the python Memory Manager,\\nwhich is responsible for allocating and deallocating memory for python objects.\\nPython uses referance counting ,garbage collection and memory pooling for verious purposes like\\nreferance counting to manage memory.Garbage collection to deal with objects that have circular referances.\\nMemory pooling to improve performance'"
      ]
     },
     "execution_count": 1,
     "metadata": {},
     "output_type": "execute_result"
    }
   ],
   "source": [
    "\"\"\"Memory management in Python is handled by the python Memory Manager,\n",
    "which is responsible for allocating and deallocating memory for python objects.\n",
    "Python uses referance counting ,garbage collection and memory pooling for verious purposes like\n",
    "referance counting to manage memory.Garbage collection to deal with objects that have circular referances.\n",
    "Memory pooling to improve performance\"\"\""
   ]
  },
  {
   "cell_type": "code",
   "execution_count": 2,
   "id": "ac12095f-4253-4168-82e1-ae62b408b531",
   "metadata": {},
   "outputs": [
    {
     "data": {
      "text/plain": [
       "'Yes indentation is required in python .Indentation is used to indicate the level\\nof nesting in Python code,and is used in place of other block delimiters such\\nas curly braces({}) or begin /end statements.'"
      ]
     },
     "execution_count": 2,
     "metadata": {},
     "output_type": "execute_result"
    }
   ],
   "source": [
    "\"\"\"Yes indentation is required in python .Indentation is used to indicate the level\n",
    "of nesting in Python code,and is used in place of other block delimiters such\n",
    "as curly braces({}) or begin /end statements.\"\"\""
   ]
  },
  {
   "cell_type": "code",
   "execution_count": 3,
   "id": "98194023-1105-4649-9040-d5f507a41279",
   "metadata": {},
   "outputs": [
    {
     "data": {
      "text/plain": [
       "' Here are some steps to install Python on windows\\n1.Go to official Python website(python.org) and download the latest version\\n2.Run the downloaded installation file.\\n3.In the installation wizard,select\"Customize installation\"to choose\\nthe options you want to install.\\n4.Choose the installation directory where you want Python to be installed. The default directory is usually \"C:\\\\Python39\" (or whatever the latest version is).\\n5.Check the \"Add Python to PATH\" option to automatically set the path variables. This will allow you to use Python from the command prompt and other applications without having to manually set the path.\\n6.Complete the installation by clicking \"Install Now\".\\n7.Once the installation is complete, open the Command Prompt and type \"python\" to make sure it\\'s installed correctly. If Python is installed correctly, you should see the Python version number and a \">>>\" prompt.\\nIf you didn\\'t select the \"Add Python to PATH\" option during the installation, you can manually set the path variables as follows:\\n\\nOpen the Start menu and search for \"Environment Variables\".\\nClick \"Edit the system environment variables\".\\nClick the \"Environment Variables\" button.\\nIn the \"System Variables\" section, scroll down and find the \"Path\" variable.\\nClick \"Edit\" and then \"New\" to add a new path.\\nEnter the path to the Python installation directory (e.g. \"C:\\\\Python39\") and click \"OK\".\\nClick \"OK\" on all the open windows to close them and save the changes.\\nOpen the Command Prompt and type \"python\" to make sure it\\'s installed correctly and the path is set up correctly.\\n'"
      ]
     },
     "execution_count": 3,
     "metadata": {},
     "output_type": "execute_result"
    }
   ],
   "source": [
    "\"\"\" Here are some steps to install Python on windows\n",
    "1.Go to official Python website(python.org) and download the latest version\n",
    "2.Run the downloaded installation file.\n",
    "3.In the installation wizard,select\"Customize installation\"to choose\n",
    "the options you want to install.\n",
    "4.Choose the installation directory where you want Python to be installed. The default directory is usually \"C:\\Python39\" (or whatever the latest version is).\n",
    "5.Check the \"Add Python to PATH\" option to automatically set the path variables. This will allow you to use Python from the command prompt and other applications without having to manually set the path.\n",
    "6.Complete the installation by clicking \"Install Now\".\n",
    "7.Once the installation is complete, open the Command Prompt and type \"python\" to make sure it's installed correctly. If Python is installed correctly, you should see the Python version number and a \">>>\" prompt.\n",
    "If you didn't select the \"Add Python to PATH\" option during the installation, you can manually set the path variables as follows:\n",
    "\n",
    "Open the Start menu and search for \"Environment Variables\".\n",
    "Click \"Edit the system environment variables\".\n",
    "Click the \"Environment Variables\" button.\n",
    "In the \"System Variables\" section, scroll down and find the \"Path\" variable.\n",
    "Click \"Edit\" and then \"New\" to add a new path.\n",
    "Enter the path to the Python installation directory (e.g. \"C:\\Python39\") and click \"OK\".\n",
    "Click \"OK\" on all the open windows to close them and save the changes.\n",
    "Open the Command Prompt and type \"python\" to make sure it's installed correctly and the path is set up correctly.\n",
    "\"\"\""
   ]
  },
  {
   "cell_type": "code",
   "execution_count": null,
   "id": "49795c42-a8da-4086-9b8c-3a13bccde6b5",
   "metadata": {},
   "outputs": [],
   "source": []
  }
 ],
 "metadata": {
  "kernelspec": {
   "display_name": "Python 3 (ipykernel)",
   "language": "python",
   "name": "python3"
  },
  "language_info": {
   "codemirror_mode": {
    "name": "ipython",
    "version": 3
   },
   "file_extension": ".py",
   "mimetype": "text/x-python",
   "name": "python",
   "nbconvert_exporter": "python",
   "pygments_lexer": "ipython3",
   "version": "3.10.8"
  },
  "toc-autonumbering": true
 },
 "nbformat": 4,
 "nbformat_minor": 5
}
