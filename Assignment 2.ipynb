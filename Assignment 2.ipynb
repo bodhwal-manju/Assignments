{
 "cells": [
  {
   "cell_type": "code",
   "execution_count": 5,
   "id": "bb2b2404-4f85-42db-96b1-9cbf014432b7",
   "metadata": {},
   "outputs": [],
   "source": [
    "#def is used to create a function.\n",
    "def odd_numbers():\n",
    "    l=[]\n",
    "    for i in range(1,25):\n",
    "        if i%2!=0:\n",
    "            l.append(i)\n",
    "    return l        \n",
    "    "
   ]
  },
  {
   "cell_type": "code",
   "execution_count": 6,
   "id": "6d83eeb5-f7a7-4ffb-8fd2-15c948a1d030",
   "metadata": {},
   "outputs": [
    {
     "data": {
      "text/plain": [
       "[1, 3, 5, 7, 9, 11, 13, 15, 17, 19, 21, 23]"
      ]
     },
     "execution_count": 6,
     "metadata": {},
     "output_type": "execute_result"
    }
   ],
   "source": [
    "odd_numbers()"
   ]
  },
  {
   "cell_type": "code",
   "execution_count": 15,
   "id": "2a6a16b8-ef4d-43ee-8759-4df757a7fb36",
   "metadata": {},
   "outputs": [
    {
     "name": "stdout",
     "output_type": "stream",
     "text": [
      "1\n",
      "2\n",
      "3\n",
      "4\n",
      "5\n",
      "a:1\n",
      "b:2\n",
      "c:3\n"
     ]
    }
   ],
   "source": [
    "'''*args is used to pass a variable number of keyword argument to a function\n",
    ".The * symbol is used to denote that the function can accept an arbitrary\n",
    "number of arguments,which are than passed as tuple\n",
    "'''\n",
    "def print_args(*args):\n",
    "    for arg in args:\n",
    "        print(arg)\n",
    "print_args(1,2,3,4,5)   \n",
    "        \n",
    "\n",
    "\n",
    "'''**kwargs is used to pass a variable number of keyword argument to a function.The **\n",
    "symbol is used to denote that the function can accept an arbitary number of keyword arguments,\n",
    "which are then passed as a dictionary'''\n",
    "\n",
    "def print_kwargs(**kwargs):\n",
    "    for key,value in kwargs.items():\n",
    "        print(f\"{key}:{value}\")\n",
    "print_kwargs(a=1,b=2,c=3)       "
   ]
  },
  {
   "cell_type": "code",
   "execution_count": 29,
   "id": "423af79e-538a-46ba-883f-46775a7e0742",
   "metadata": {},
   "outputs": [
    {
     "name": "stdout",
     "output_type": "stream",
     "text": [
      "2\n",
      "4\n",
      "6\n",
      "8\n",
      "10\n",
      "2\n",
      "4\n",
      "6\n",
      "8\n",
      "10\n"
     ]
    }
   ],
   "source": [
    "\n",
    "'''An iterator is an object that can be iterated upon,meaning that you can \n",
    "traverse through all the values in the object.Iterators\n",
    "are used to represent a stream of data,and can be used\n",
    "to process that data in a convenient and effective way'''\n",
    "\n",
    "\"\"\"The method used to initialize an iterator object is the iter() method. \n",
    "The method used for iteration is the next() method,\n",
    "which retrieves the next item from the iterator. \n",
    "When there are no more items to be retrieved, \n",
    "the next() method raises a StopIteration exception.\n",
    "alternatively we can use a for loop to iterate over\n",
    "the iterator which automatically handles the StopIteration \n",
    "exception for us\n",
    "\"\"\"\n",
    "\n",
    "list_iter=iter([2,4,6,8,10,12,14,16,18,20])\n",
    "print(next(list_iter))\n",
    "print(next(list_iter))\n",
    "print(next(list_iter))\n",
    "print(next(list_iter))\n",
    "print(next(list_iter))\n",
    "\n",
    "\n",
    "\"OR\"\n",
    "list_iter=iter([2,4,6,8,10,12,14,16,18,20])\n",
    "for i in range(5):\n",
    "    print(next(list_iter))\n",
    "    \n"
   ]
  },
  {
   "cell_type": "code",
   "execution_count": 3,
   "id": "1e4450a5-cbaf-43cf-8854-fb350138aac1",
   "metadata": {},
   "outputs": [
    {
     "data": {
      "text/plain": [
       "\"a generator function in Python is a special type of function that allows you to \\nreturn a generator iterator.A generator function is defined like a normal function,\\nbut instead of using the return keyword,it uses the yield keyword.\\n\\nThe yield keyword is used to produce a value that can be retrieved by an iterator.\\nWhen the function is called,it does not execute the function immediately like a normal function\\n,but instead returns a generator object.The generator object can be used to execute the function\\none step at a time,by calling the 'next()'method.\""
      ]
     },
     "execution_count": 3,
     "metadata": {},
     "output_type": "execute_result"
    }
   ],
   "source": [
    "\"\"\"a generator function in Python is a special type of function that allows you to \n",
    "return a generator iterator.A generator function is defined like a normal function,\n",
    "but instead of using the return keyword,it uses the yield keyword.\n",
    "\n",
    "The yield keyword is used to produce a value that can be retrieved by an iterator.\n",
    "When the function is called,it does not execute the function immediately like a normal function\n",
    ",but instead returns a generator object.The generator object can be used to execute the function\n",
    "one step at a time,by calling the 'next()'method.\"\"\""
   ]
  },
  {
   "cell_type": "code",
   "execution_count": 11,
   "id": "868f87a5-a0e6-4412-aaaa-1a13ea365098",
   "metadata": {},
   "outputs": [
    {
     "name": "stdout",
     "output_type": "stream",
     "text": [
      "0\n",
      "1\n",
      "1\n",
      "2\n",
      "3\n",
      "5\n",
      "8\n",
      "13\n",
      "21\n",
      "34\n",
      "0\n",
      "1\n",
      "2\n",
      "3\n",
      "4\n"
     ]
    }
   ],
   "source": [
    "def fib_generator():\n",
    "    a,b=0,1\n",
    "    while True:\n",
    "        yield a\n",
    "        a,b=b,a+b\n",
    "fibonacci=fib_generator()\n",
    "for i in range(10):\n",
    "    print(next(fibonacci))\n",
    "    \n",
    "    \n",
    "    \"or\"\n",
    "def my_range(n):\n",
    "        i=0\n",
    "        while i<n:\n",
    "            yield i\n",
    "            i+=1\n",
    "for i in my_range(5):\n",
    "        print(i)\n",
    "        \n",
    "    "
   ]
  },
  {
   "cell_type": "code",
   "execution_count": 15,
   "id": "9e749bc5-efd9-422e-81bd-6cf87377cc3e",
   "metadata": {},
   "outputs": [
    {
     "name": "stdout",
     "output_type": "stream",
     "text": [
      "2\n",
      "3\n",
      "5\n",
      "7\n",
      "11\n",
      "13\n",
      "17\n",
      "19\n",
      "23\n",
      "29\n",
      "31\n",
      "37\n",
      "41\n",
      "43\n",
      "47\n",
      "53\n",
      "59\n",
      "61\n",
      "67\n",
      "71\n"
     ]
    }
   ],
   "source": [
    "def prime_num():\n",
    "\n",
    "    for i in range(2,1000):\n",
    "        is_prime=True\n",
    "        for j in range(2,i):\n",
    "            if i%j==0:\n",
    "                is_prime=False\n",
    "                break\n",
    "        if is_prime:\n",
    "            yield i\n",
    "                \n",
    "                \n",
    "prime=prime_num() \n",
    "for i in range(20):\n",
    "    print(next(prime))"
   ]
  },
  {
   "cell_type": "code",
   "execution_count": 28,
   "id": "a50139e1-5d2a-416b-b93a-3d10b41f94f0",
   "metadata": {},
   "outputs": [
    {
     "name": "stdout",
     "output_type": "stream",
     "text": [
      "1\n",
      "1\n",
      "2\n",
      "3\n",
      "5\n",
      "8\n",
      "13\n",
      "21\n",
      "34\n",
      "55\n",
      "89\n"
     ]
    }
   ],
   "source": [
    "def fib_num(n):\n",
    "    i=0\n",
    "    a,b=0,1\n",
    "    while i<=n:\n",
    "        a,b=b,a+b\n",
    "        i+=1\n",
    "        print(a)\n",
    "fib_num(10)    "
   ]
  },
  {
   "cell_type": "code",
   "execution_count": 4,
   "id": "3d0384f2-c2bb-4fc9-b6b2-08d019c251d2",
   "metadata": {},
   "outputs": [
    {
     "name": "stdout",
     "output_type": "stream",
     "text": [
      "['p', 'w', 's', 'k', 'i', 'l', 'l', 's']\n"
     ]
    }
   ],
   "source": [
    "string='pwskills'\n",
    "chars=[i for i in string]\n",
    "print(chars)"
   ]
  },
  {
   "cell_type": "code",
   "execution_count": 5,
   "id": "01533c65-e5dd-4d50-89d8-4caa6a90d96f",
   "metadata": {},
   "outputs": [
    {
     "name": "stdin",
     "output_type": "stream",
     "text": [
      " 121\n"
     ]
    },
    {
     "name": "stdout",
     "output_type": "stream",
     "text": [
      "121 is a palindrome\n"
     ]
    }
   ],
   "source": [
    "number=int(input())\n",
    "original_number=number\n",
    "reverse=0\n",
    "while number>0:\n",
    "    last_digit=number%10\n",
    "    reverse=reverse*10+last_digit\n",
    "    number=number//10\n",
    "    \n",
    "if original_number==reverse:\n",
    "    print(f\"{original_number} is a palindrome\")\n",
    "else:\n",
    "    print(f\"{original_number} is not a palindrome\")\n",
    "    "
   ]
  },
  {
   "cell_type": "code",
   "execution_count": 6,
   "id": "2dc90623-f47e-469d-a89c-9ec45be293d6",
   "metadata": {},
   "outputs": [
    {
     "name": "stdout",
     "output_type": "stream",
     "text": [
      "[1, 3, 5, 7, 9, 11, 13, 15, 17, 19, 21, 23, 25, 27, 29, 31, 33, 35, 37, 39, 41, 43, 45, 47, 49, 51, 53, 55, 57, 59, 61, 63, 65, 67, 69, 71, 73, 75, 77, 79, 81, 83, 85, 87, 89, 91, 93, 95, 97, 99]\n"
     ]
    }
   ],
   "source": [
    "odd_numbers=[i for i in range(1,101) if i%2!=0]\n",
    "print(odd_numbers)\n",
    "    "
   ]
  },
  {
   "cell_type": "code",
   "execution_count": null,
   "id": "6a1b2640-af75-4caa-899c-e142ca8b1803",
   "metadata": {},
   "outputs": [],
   "source": []
  },
  {
   "cell_type": "code",
   "execution_count": null,
   "id": "c1dc4445-9063-4e54-b12e-c807fb67d644",
   "metadata": {},
   "outputs": [],
   "source": []
  }
 ],
 "metadata": {
  "kernelspec": {
   "display_name": "Python 3 (ipykernel)",
   "language": "python",
   "name": "python3"
  },
  "language_info": {
   "codemirror_mode": {
    "name": "ipython",
    "version": 3
   },
   "file_extension": ".py",
   "mimetype": "text/x-python",
   "name": "python",
   "nbconvert_exporter": "python",
   "pygments_lexer": "ipython3",
   "version": "3.10.8"
  }
 },
 "nbformat": 4,
 "nbformat_minor": 5
}
