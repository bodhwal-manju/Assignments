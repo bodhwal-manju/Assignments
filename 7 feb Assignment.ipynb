{
 "cells": [
  {
   "cell_type": "code",
   "execution_count": 18,
   "id": "d8309d9c-ac9b-434f-8e2b-1f428b478df5",
   "metadata": {},
   "outputs": [
    {
     "name": "stdin",
     "output_type": "stream",
     "text": [
      "Enter the password :  12klMN%$&*\n"
     ]
    },
    {
     "data": {
      "text/plain": [
       "'Valid Password'"
      ]
     },
     "execution_count": 18,
     "metadata": {},
     "output_type": "execute_result"
    }
   ],
   "source": [
    "#Q1\n",
    "password=input(\"Enter the password : \")\n",
    "import re\n",
    "def checkPassword(password):\n",
    "    countupper=0\n",
    "    countlower=0\n",
    "    specialcount=0\n",
    "    numbers=0\n",
    "    if len(password)==10:\n",
    "        for char in password:\n",
    "            if char.isupper():\n",
    "                countupper+=1\n",
    "            if char.islower():\n",
    "                countlower+=1\n",
    "            if (re.search('[^a-zA-Z0-9]',char)):\n",
    "                specialcount+=1\n",
    "            if char.isdigit():\n",
    "                numbers+=1\n",
    "        if (countupper>=2 and countlower>=2 and specialcount>=3 and numbers>=1 and len(password)==10):\n",
    "            return \"Valid Password\"\n",
    "        else :\n",
    "            return \"Invalid password\"\n",
    "    else:\n",
    "        return \"Invalid Password\"\n",
    "checkPassword(password)        "
   ]
  },
  {
   "cell_type": "code",
   "execution_count": 45,
   "id": "18a57377-502f-4a0c-b155-59b783136f0f",
   "metadata": {},
   "outputs": [
    {
     "name": "stdin",
     "output_type": "stream",
     "text": [
      "Enter a string:  Manju\n",
      "Enter a letter:  K\n"
     ]
    },
    {
     "name": "stdout",
     "output_type": "stream",
     "text": [
      "False\n"
     ]
    }
   ],
   "source": [
    "# Q2\n",
    "#a) check if the string starts with a particular letter\n",
    "string = input(\"Enter a string: \")\n",
    "letter = input(\"Enter a letter: \")\n",
    "\n",
    "starts_with_letter = bool(list(filter(lambda x: x.startswith(letter), [string])))\n",
    "\n",
    "print(starts_with_letter)\n"
   ]
  },
  {
   "cell_type": "code",
   "execution_count": 46,
   "id": "a246ed5c-a7b0-4175-882f-cfc8281b54c3",
   "metadata": {},
   "outputs": [
    {
     "data": {
      "text/plain": [
       "True"
      ]
     },
     "execution_count": 46,
     "metadata": {},
     "output_type": "execute_result"
    }
   ],
   "source": [
    "#b) check string is numeric?\n",
    "a=lambda s:s.isnumeric()\n",
    "a('345778')"
   ]
  },
  {
   "cell_type": "code",
   "execution_count": 50,
   "id": "c268966c-1075-4c42-a885-7c021b86a845",
   "metadata": {},
   "outputs": [
    {
     "data": {
      "text/plain": [
       "[('grapes', 1000), ('mango', 99), ('orange', 80)]"
      ]
     },
     "execution_count": 50,
     "metadata": {},
     "output_type": "execute_result"
    }
   ],
   "source": [
    "#C)sort a list of tuples having fruit names and their quantity\n",
    "m=[(\"mango\",99),(\"orange\",80), (\"grapes\", 1000)]\n",
    "sorted(filter(lambda x:x,m))"
   ]
  },
  {
   "cell_type": "code",
   "execution_count": 55,
   "id": "81d893a8-d951-4143-a4c2-0e80b4bf0d1e",
   "metadata": {},
   "outputs": [
    {
     "data": {
      "text/plain": [
       "[1, 4, 9, 16, 25, 36, 49, 64, 81, 100]"
      ]
     },
     "execution_count": 55,
     "metadata": {},
     "output_type": "execute_result"
    }
   ],
   "source": [
    "#D) Find the squares of numbers from 1 to 10\n",
    "list(map(lambda x:x**2,range(1,11)))\n",
    "#OR\n",
    "[i**2 for i in range(1,11)]"
   ]
  },
  {
   "cell_type": "code",
   "execution_count": 56,
   "id": "c1e6b0f3-757b-485c-a542-b3291d1dc03f",
   "metadata": {},
   "outputs": [
    {
     "data": {
      "text/plain": [
       "[1.0,\n",
       " 1.2599210498948732,\n",
       " 1.4422495703074083,\n",
       " 1.5874010519681994,\n",
       " 1.7099759466766968,\n",
       " 1.8171205928321397,\n",
       " 1.912931182772389,\n",
       " 2.0,\n",
       " 2.080083823051904,\n",
       " 2.154434690031884]"
      ]
     },
     "execution_count": 56,
     "metadata": {},
     "output_type": "execute_result"
    }
   ],
   "source": [
    "#E)Find the cube root of numbers from 1 to 10\n",
    "list(map(lambda y:y**(1/3),range(1,11)))"
   ]
  },
  {
   "cell_type": "code",
   "execution_count": 59,
   "id": "0f5b3098-f2dd-41da-a06b-40c2f80e9903",
   "metadata": {},
   "outputs": [
    {
     "name": "stdin",
     "output_type": "stream",
     "text": [
      "Enter the number:  22\n"
     ]
    },
    {
     "data": {
      "text/plain": [
       "True"
      ]
     },
     "execution_count": 59,
     "metadata": {},
     "output_type": "execute_result"
    }
   ],
   "source": [
    "#F)Check if a given number is even\n",
    "num=int(input(\"Enter the number: \"))\n",
    "bool(list(filter(lambda x: x%2==0,[num])))"
   ]
  },
  {
   "cell_type": "code",
   "execution_count": 57,
   "id": "8d3796ed-a885-4356-aca1-713dfea49f51",
   "metadata": {},
   "outputs": [
    {
     "data": {
      "text/plain": [
       "[1, 3, 5, 7, 9]"
      ]
     },
     "execution_count": 57,
     "metadata": {},
     "output_type": "execute_result"
    }
   ],
   "source": [
    "#G)Filter odd numbers from the given list.\n",
    "l1=[1,2,3,4,5,6,7,8,9,10]\n",
    "list(filter(lambda x:x%2!=0,l1))"
   ]
  },
  {
   "cell_type": "code",
   "execution_count": 58,
   "id": "8094b329-80bc-4203-9992-f254c1dde446",
   "metadata": {},
   "outputs": [
    {
     "data": {
      "text/plain": [
       "([-5, -4, -3, -2, -1], [0, 1, 2, 3, 4, 5, 6])"
      ]
     },
     "execution_count": 58,
     "metadata": {},
     "output_type": "execute_result"
    }
   ],
   "source": [
    "#H)Sort a list of integers into positive and negative integers lists.\n",
    "l2=[1,2,3,4,5,6,-1,-2,-3,-4,-5,0]\n",
    "l_neg=sorted(filter(lambda y:y<0,l2))\n",
    "l_posi=sorted(filter(lambda x: x>=0,l2))\n",
    "l_neg,l_posi"
   ]
  },
  {
   "cell_type": "code",
   "execution_count": null,
   "id": "33499590-81cc-4960-bfb7-576d8040f4d0",
   "metadata": {},
   "outputs": [],
   "source": []
  },
  {
   "cell_type": "code",
   "execution_count": null,
   "id": "f812d247-542a-4767-a346-17b09760553b",
   "metadata": {},
   "outputs": [],
   "source": []
  }
 ],
 "metadata": {
  "kernelspec": {
   "display_name": "Python 3 (ipykernel)",
   "language": "python",
   "name": "python3"
  },
  "language_info": {
   "codemirror_mode": {
    "name": "ipython",
    "version": 3
   },
   "file_extension": ".py",
   "mimetype": "text/x-python",
   "name": "python",
   "nbconvert_exporter": "python",
   "pygments_lexer": "ipython3",
   "version": "3.10.8"
  }
 },
 "nbformat": 4,
 "nbformat_minor": 5
}
