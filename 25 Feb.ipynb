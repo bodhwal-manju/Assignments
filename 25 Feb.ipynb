{
 "cells": [
  {
   "cell_type": "markdown",
   "id": "c31ee734-3251-4888-b2c9-37a3084d16a1",
   "metadata": {},
   "source": [
    "Consider following code to answer further questions:"
   ]
  },
  {
   "cell_type": "code",
   "execution_count": 1,
   "id": "41c114c6-7c47-440b-ae70-066e418e50b2",
   "metadata": {},
   "outputs": [
    {
     "data": {
      "text/html": [
       "<div>\n",
       "<style scoped>\n",
       "    .dataframe tbody tr th:only-of-type {\n",
       "        vertical-align: middle;\n",
       "    }\n",
       "\n",
       "    .dataframe tbody tr th {\n",
       "        vertical-align: top;\n",
       "    }\n",
       "\n",
       "    .dataframe thead th {\n",
       "        text-align: right;\n",
       "    }\n",
       "</style>\n",
       "<table border=\"1\" class=\"dataframe\">\n",
       "  <thead>\n",
       "    <tr style=\"text-align: right;\">\n",
       "      <th></th>\n",
       "      <th>course_name</th>\n",
       "      <th>duration</th>\n",
       "    </tr>\n",
       "  </thead>\n",
       "  <tbody>\n",
       "    <tr>\n",
       "      <th>0</th>\n",
       "      <td>Data Science</td>\n",
       "      <td>2</td>\n",
       "    </tr>\n",
       "    <tr>\n",
       "      <th>1</th>\n",
       "      <td>Machine Learning</td>\n",
       "      <td>3</td>\n",
       "    </tr>\n",
       "    <tr>\n",
       "      <th>2</th>\n",
       "      <td>Big Data</td>\n",
       "      <td>6</td>\n",
       "    </tr>\n",
       "    <tr>\n",
       "      <th>3</th>\n",
       "      <td>Data Engineer</td>\n",
       "      <td>4</td>\n",
       "    </tr>\n",
       "  </tbody>\n",
       "</table>\n",
       "</div>"
      ],
      "text/plain": [
       "        course_name  duration\n",
       "0      Data Science         2\n",
       "1  Machine Learning         3\n",
       "2          Big Data         6\n",
       "3     Data Engineer         4"
      ]
     },
     "execution_count": 1,
     "metadata": {},
     "output_type": "execute_result"
    }
   ],
   "source": [
    "import pandas as pd\n",
    "course_name = ['Data Science', 'Machine Learning', 'Big Data', 'Data Engineer'] \n",
    "duration = [2,3,6,4]\n",
    "df = pd.DataFrame(data = {'course_name': course_name, 'duration': duration})\n",
    "df"
   ]
  },
  {
   "cell_type": "markdown",
   "id": "10b60b05-2292-4e92-abd3-6cac93bdb82c",
   "metadata": {},
   "source": [
    "# Q1. Write a code to print the data present in the second row of the dataframe, df."
   ]
  },
  {
   "cell_type": "code",
   "execution_count": 2,
   "id": "aba82c11-1f88-4d7c-b123-399e3bb1521f",
   "metadata": {},
   "outputs": [
    {
     "data": {
      "text/plain": [
       "course_name    Machine Learning\n",
       "duration                      3\n",
       "Name: 1, dtype: object"
      ]
     },
     "execution_count": 2,
     "metadata": {},
     "output_type": "execute_result"
    }
   ],
   "source": [
    "df.loc[1]"
   ]
  },
  {
   "cell_type": "markdown",
   "id": "926ffcdb-7216-4b12-842c-83ef6042ae11",
   "metadata": {},
   "source": [
    "# Q2. What is the difference between the functions loc and iloc in pandas.DataFrame?"
   ]
  },
  {
   "cell_type": "markdown",
   "id": "e550167c-a803-4342-ac5e-09de8b6aca6d",
   "metadata": {},
   "source": [
    "loc() and iloc() both are used in slicing data from the Pandas DataFrame. They help in the convenient selection of data from the DataFrame in Python. They are used in filtering the data according to some conditions.\n",
    "\n",
    "Note : a label refers to a specific name or identifier that is associated with a row or column in a DataFrame or Series.\n",
    "\n",
    "loc is used to select rows and columns in dataframe based on their labels,"
   ]
  },
  {
   "cell_type": "code",
   "execution_count": 3,
   "id": "b841b0d7-f438-4e17-bd99-1a99b144ea71",
   "metadata": {},
   "outputs": [
    {
     "data": {
      "text/plain": [
       "1    3\n",
       "2    6\n",
       "3    4\n",
       "Name: duration, dtype: int64"
      ]
     },
     "execution_count": 3,
     "metadata": {},
     "output_type": "execute_result"
    }
   ],
   "source": [
    "df.loc[1:3,'duration']                         # access row by using column name and row indexing"
   ]
  },
  {
   "cell_type": "markdown",
   "id": "16741cd1-92d6-4d12-955c-a3eeaace85ff",
   "metadata": {},
   "source": [
    "iloc is used to select rows and columns based on their integer position."
   ]
  },
  {
   "cell_type": "code",
   "execution_count": 4,
   "id": "6fe34446-dc21-4335-b725-bfd2383f191f",
   "metadata": {},
   "outputs": [
    {
     "data": {
      "text/plain": [
       "1    Machine Learning\n",
       "2            Big Data\n",
       "Name: course_name, dtype: object"
      ]
     },
     "execution_count": 4,
     "metadata": {},
     "output_type": "execute_result"
    }
   ],
   "source": [
    "df.iloc[1:3,0]                              # accessing first column by using row integer and column in integer also"
   ]
  },
  {
   "cell_type": "markdown",
   "id": "7be2d362-39cf-4ce6-ad70-3327489acc75",
   "metadata": {},
   "source": [
    "# Q3. Reindex the given dataframe using a variable, reindex = [3,0,1,2] and store it in the variable, new_df then find the output for both new_df.loc[2] and new_df.iloc[2]. Did you observe any difference in both the outputs? If so then explain it. Consider the below code to answer further questions:"
   ]
  },
  {
   "cell_type": "code",
   "execution_count": 5,
   "id": "ec4d15ef-eaf5-40ee-9158-0b9ca4ff25f5",
   "metadata": {},
   "outputs": [
    {
     "data": {
      "text/html": [
       "<div>\n",
       "<style scoped>\n",
       "    .dataframe tbody tr th:only-of-type {\n",
       "        vertical-align: middle;\n",
       "    }\n",
       "\n",
       "    .dataframe tbody tr th {\n",
       "        vertical-align: top;\n",
       "    }\n",
       "\n",
       "    .dataframe thead th {\n",
       "        text-align: right;\n",
       "    }\n",
       "</style>\n",
       "<table border=\"1\" class=\"dataframe\">\n",
       "  <thead>\n",
       "    <tr style=\"text-align: right;\">\n",
       "      <th></th>\n",
       "      <th>column_1</th>\n",
       "      <th>column_2</th>\n",
       "      <th>column_3</th>\n",
       "      <th>column_4</th>\n",
       "      <th>column_5</th>\n",
       "      <th>column_6</th>\n",
       "    </tr>\n",
       "  </thead>\n",
       "  <tbody>\n",
       "    <tr>\n",
       "      <th>1</th>\n",
       "      <td>0.870866</td>\n",
       "      <td>0.563167</td>\n",
       "      <td>0.856440</td>\n",
       "      <td>0.249669</td>\n",
       "      <td>0.669223</td>\n",
       "      <td>0.779587</td>\n",
       "    </tr>\n",
       "    <tr>\n",
       "      <th>2</th>\n",
       "      <td>0.416753</td>\n",
       "      <td>0.743955</td>\n",
       "      <td>0.718277</td>\n",
       "      <td>0.479558</td>\n",
       "      <td>0.919343</td>\n",
       "      <td>0.983921</td>\n",
       "    </tr>\n",
       "    <tr>\n",
       "      <th>3</th>\n",
       "      <td>0.933786</td>\n",
       "      <td>0.294643</td>\n",
       "      <td>0.525379</td>\n",
       "      <td>0.684176</td>\n",
       "      <td>0.451581</td>\n",
       "      <td>0.015554</td>\n",
       "    </tr>\n",
       "    <tr>\n",
       "      <th>4</th>\n",
       "      <td>0.799113</td>\n",
       "      <td>0.014875</td>\n",
       "      <td>0.277159</td>\n",
       "      <td>0.343087</td>\n",
       "      <td>0.669210</td>\n",
       "      <td>0.357550</td>\n",
       "    </tr>\n",
       "    <tr>\n",
       "      <th>5</th>\n",
       "      <td>0.138123</td>\n",
       "      <td>0.322864</td>\n",
       "      <td>0.516023</td>\n",
       "      <td>0.320901</td>\n",
       "      <td>0.587965</td>\n",
       "      <td>0.813265</td>\n",
       "    </tr>\n",
       "    <tr>\n",
       "      <th>6</th>\n",
       "      <td>0.307689</td>\n",
       "      <td>0.756027</td>\n",
       "      <td>0.299302</td>\n",
       "      <td>0.488060</td>\n",
       "      <td>0.043801</td>\n",
       "      <td>0.436033</td>\n",
       "    </tr>\n",
       "  </tbody>\n",
       "</table>\n",
       "</div>"
      ],
      "text/plain": [
       "   column_1  column_2  column_3  column_4  column_5  column_6\n",
       "1  0.870866  0.563167  0.856440  0.249669  0.669223  0.779587\n",
       "2  0.416753  0.743955  0.718277  0.479558  0.919343  0.983921\n",
       "3  0.933786  0.294643  0.525379  0.684176  0.451581  0.015554\n",
       "4  0.799113  0.014875  0.277159  0.343087  0.669210  0.357550\n",
       "5  0.138123  0.322864  0.516023  0.320901  0.587965  0.813265\n",
       "6  0.307689  0.756027  0.299302  0.488060  0.043801  0.436033"
      ]
     },
     "execution_count": 5,
     "metadata": {},
     "output_type": "execute_result"
    }
   ],
   "source": [
    "import pandas as pd\n",
    "import numpy as np\n",
    "columns = ['column_1', 'column_2', 'column_3', 'column_4', 'column_5', 'column_6'] \n",
    "indices = [1,2,3,4,5,6]\n",
    "# Creating a dataframe:\n",
    "df1 = pd.DataFrame(np.random.rand(6,6), columns = columns, index = indices)\n",
    "df1\n"
   ]
  },
  {
   "cell_type": "code",
   "execution_count": 6,
   "id": "506b2402-2dd7-461e-a2ff-82005bb59473",
   "metadata": {},
   "outputs": [],
   "source": [
    "new_df = df1.reindex([3,0,1,2])"
   ]
  },
  {
   "cell_type": "code",
   "execution_count": 7,
   "id": "9f4ebb6a-3385-4932-9379-f14ccdd6f75d",
   "metadata": {},
   "outputs": [
    {
     "data": {
      "text/plain": [
       "column_1    0.416753\n",
       "column_2    0.743955\n",
       "column_3    0.718277\n",
       "column_4    0.479558\n",
       "column_5    0.919343\n",
       "column_6    0.983921\n",
       "Name: 2, dtype: float64"
      ]
     },
     "execution_count": 7,
     "metadata": {},
     "output_type": "execute_result"
    }
   ],
   "source": [
    "new_df.loc[2]"
   ]
  },
  {
   "cell_type": "code",
   "execution_count": 8,
   "id": "107199f5-b6d7-4de0-96e5-4bdde63ba9cd",
   "metadata": {},
   "outputs": [
    {
     "data": {
      "text/plain": [
       "column_1    0.870866\n",
       "column_2    0.563167\n",
       "column_3    0.856440\n",
       "column_4    0.249669\n",
       "column_5    0.669223\n",
       "column_6    0.779587\n",
       "Name: 1, dtype: float64"
      ]
     },
     "execution_count": 8,
     "metadata": {},
     "output_type": "execute_result"
    }
   ],
   "source": [
    "new_df.iloc[2]"
   ]
  },
  {
   "cell_type": "markdown",
   "id": "e8f389e8-1361-444b-b0d7-e620dde15fc2",
   "metadata": {},
   "source": [
    "# Q4. Write a code to find the following statistical measurements for the above dataframe dfl: (i) mean of each and every column present in the dataframe."
   ]
  },
  {
   "cell_type": "code",
   "execution_count": 9,
   "id": "1c4ed421-23ba-4cc5-b4ce-6a68110b7498",
   "metadata": {},
   "outputs": [
    {
     "data": {
      "text/plain": [
       "column_1    0.577722\n",
       "column_2    0.449255\n",
       "column_3    0.532097\n",
       "column_4    0.427575\n",
       "column_5    0.556854\n",
       "column_6    0.564318\n",
       "dtype: float64"
      ]
     },
     "execution_count": 9,
     "metadata": {},
     "output_type": "execute_result"
    }
   ],
   "source": [
    "df1.mean()"
   ]
  },
  {
   "cell_type": "markdown",
   "id": "5727c0f8-66a8-4aec-9d83-3e9566c2d2a8",
   "metadata": {},
   "source": [
    "(ii) standard deviation of column, 'column_2'"
   ]
  },
  {
   "cell_type": "code",
   "execution_count": 11,
   "id": "710e0ec4-7afa-41f4-94a4-d8a40f9b9133",
   "metadata": {},
   "outputs": [
    {
     "data": {
      "text/plain": [
       "<bound method NDFrame._add_numeric_operations.<locals>.std of 1    0.563167\n",
       "2    0.743955\n",
       "3    0.294643\n",
       "4    0.014875\n",
       "5    0.322864\n",
       "6    0.756027\n",
       "Name: column_2, dtype: float64>"
      ]
     },
     "execution_count": 11,
     "metadata": {},
     "output_type": "execute_result"
    }
   ],
   "source": [
    "df1['column_2'].std"
   ]
  },
  {
   "cell_type": "markdown",
   "id": "5b8727b3-2429-4c39-a2b0-ce7ba4acb822",
   "metadata": {},
   "source": [
    "# Q5. Replace the data present in the second row of column, 'column_2' by a string variable then find the mean of column, column_2. If you are getting errors in executing it then explain why. [Hint: To replace the data use dfl.loc[] and equate this to string data of your choice.]"
   ]
  },
  {
   "cell_type": "code",
   "execution_count": 12,
   "id": "4b34c718-2a0d-4bc5-9ed2-58521c93aa3f",
   "metadata": {},
   "outputs": [
    {
     "data": {
      "text/html": [
       "<div>\n",
       "<style scoped>\n",
       "    .dataframe tbody tr th:only-of-type {\n",
       "        vertical-align: middle;\n",
       "    }\n",
       "\n",
       "    .dataframe tbody tr th {\n",
       "        vertical-align: top;\n",
       "    }\n",
       "\n",
       "    .dataframe thead th {\n",
       "        text-align: right;\n",
       "    }\n",
       "</style>\n",
       "<table border=\"1\" class=\"dataframe\">\n",
       "  <thead>\n",
       "    <tr style=\"text-align: right;\">\n",
       "      <th></th>\n",
       "      <th>column_1</th>\n",
       "      <th>column_2</th>\n",
       "      <th>column_3</th>\n",
       "      <th>column_4</th>\n",
       "      <th>column_5</th>\n",
       "      <th>column_6</th>\n",
       "    </tr>\n",
       "  </thead>\n",
       "  <tbody>\n",
       "    <tr>\n",
       "      <th>1</th>\n",
       "      <td>0.870866</td>\n",
       "      <td>0.563167</td>\n",
       "      <td>0.856440</td>\n",
       "      <td>0.249669</td>\n",
       "      <td>0.669223</td>\n",
       "      <td>0.779587</td>\n",
       "    </tr>\n",
       "    <tr>\n",
       "      <th>2</th>\n",
       "      <td>0.416753</td>\n",
       "      <td>0.743955</td>\n",
       "      <td>0.718277</td>\n",
       "      <td>0.479558</td>\n",
       "      <td>0.919343</td>\n",
       "      <td>0.983921</td>\n",
       "    </tr>\n",
       "    <tr>\n",
       "      <th>3</th>\n",
       "      <td>0.933786</td>\n",
       "      <td>0.294643</td>\n",
       "      <td>0.525379</td>\n",
       "      <td>0.684176</td>\n",
       "      <td>0.451581</td>\n",
       "      <td>0.015554</td>\n",
       "    </tr>\n",
       "    <tr>\n",
       "      <th>4</th>\n",
       "      <td>0.799113</td>\n",
       "      <td>0.014875</td>\n",
       "      <td>0.277159</td>\n",
       "      <td>0.343087</td>\n",
       "      <td>0.669210</td>\n",
       "      <td>0.357550</td>\n",
       "    </tr>\n",
       "    <tr>\n",
       "      <th>5</th>\n",
       "      <td>0.138123</td>\n",
       "      <td>0.322864</td>\n",
       "      <td>0.516023</td>\n",
       "      <td>0.320901</td>\n",
       "      <td>0.587965</td>\n",
       "      <td>0.813265</td>\n",
       "    </tr>\n",
       "    <tr>\n",
       "      <th>6</th>\n",
       "      <td>0.307689</td>\n",
       "      <td>0.756027</td>\n",
       "      <td>0.299302</td>\n",
       "      <td>0.488060</td>\n",
       "      <td>0.043801</td>\n",
       "      <td>0.436033</td>\n",
       "    </tr>\n",
       "  </tbody>\n",
       "</table>\n",
       "</div>"
      ],
      "text/plain": [
       "   column_1  column_2  column_3  column_4  column_5  column_6\n",
       "1  0.870866  0.563167  0.856440  0.249669  0.669223  0.779587\n",
       "2  0.416753  0.743955  0.718277  0.479558  0.919343  0.983921\n",
       "3  0.933786  0.294643  0.525379  0.684176  0.451581  0.015554\n",
       "4  0.799113  0.014875  0.277159  0.343087  0.669210  0.357550\n",
       "5  0.138123  0.322864  0.516023  0.320901  0.587965  0.813265\n",
       "6  0.307689  0.756027  0.299302  0.488060  0.043801  0.436033"
      ]
     },
     "execution_count": 12,
     "metadata": {},
     "output_type": "execute_result"
    }
   ],
   "source": [
    "df1"
   ]
  },
  {
   "cell_type": "code",
   "execution_count": 13,
   "id": "6462121c-3225-4b14-b8c1-fceca72698de",
   "metadata": {},
   "outputs": [],
   "source": [
    "df1.loc[2,'column_2'] = 'Nazer'"
   ]
  },
  {
   "cell_type": "code",
   "execution_count": 14,
   "id": "d8c23d7d-1c3e-46d7-a8b6-4d645a3b42cb",
   "metadata": {},
   "outputs": [
    {
     "name": "stdout",
     "output_type": "stream",
     "text": [
      "This is :  unsupported operand type(s) for +: 'float' and 'str'\n"
     ]
    }
   ],
   "source": [
    "try:\n",
    "    df1['column_2'].mean()\n",
    "except TypeError as e:\n",
    "    print(f'This is : ',e)"
   ]
  },
  {
   "cell_type": "markdown",
   "id": "f7703e20-9116-4b6d-8183-61e57076efce",
   "metadata": {},
   "source": [
    "We got TypeError due to use string on place of float or int"
   ]
  },
  {
   "cell_type": "markdown",
   "id": "b87e95f0-f8fb-4477-b8b0-1350efe78843",
   "metadata": {},
   "source": [
    "# Q6. What do you understand about the windows function in pandas and list the types of windows functions?"
   ]
  },
  {
   "cell_type": "markdown",
   "id": "c4599421-15ae-49c2-bc2d-f0aeb4e3f9f0",
   "metadata": {},
   "source": [
    "windows function work inside a rolling() function as a parameter, rolling means roll it self. If you provide windows = 1 no any changing will be happend"
   ]
  },
  {
   "cell_type": "code",
   "execution_count": 15,
   "id": "cb29b290-bcb7-46d4-bcac-16e88798498f",
   "metadata": {},
   "outputs": [
    {
     "data": {
      "text/html": [
       "<div>\n",
       "<style scoped>\n",
       "    .dataframe tbody tr th:only-of-type {\n",
       "        vertical-align: middle;\n",
       "    }\n",
       "\n",
       "    .dataframe tbody tr th {\n",
       "        vertical-align: top;\n",
       "    }\n",
       "\n",
       "    .dataframe thead th {\n",
       "        text-align: right;\n",
       "    }\n",
       "</style>\n",
       "<table border=\"1\" class=\"dataframe\">\n",
       "  <thead>\n",
       "    <tr style=\"text-align: right;\">\n",
       "      <th></th>\n",
       "      <th>column_1</th>\n",
       "      <th>column_2</th>\n",
       "      <th>column_3</th>\n",
       "      <th>column_4</th>\n",
       "      <th>column_5</th>\n",
       "      <th>column_6</th>\n",
       "    </tr>\n",
       "  </thead>\n",
       "  <tbody>\n",
       "    <tr>\n",
       "      <th>1</th>\n",
       "      <td>0.870866</td>\n",
       "      <td>0.563167</td>\n",
       "      <td>0.856440</td>\n",
       "      <td>0.249669</td>\n",
       "      <td>0.669223</td>\n",
       "      <td>0.779587</td>\n",
       "    </tr>\n",
       "    <tr>\n",
       "      <th>2</th>\n",
       "      <td>0.416753</td>\n",
       "      <td>Nazer</td>\n",
       "      <td>0.718277</td>\n",
       "      <td>0.479558</td>\n",
       "      <td>0.919343</td>\n",
       "      <td>0.983921</td>\n",
       "    </tr>\n",
       "    <tr>\n",
       "      <th>3</th>\n",
       "      <td>0.933786</td>\n",
       "      <td>0.294643</td>\n",
       "      <td>0.525379</td>\n",
       "      <td>0.684176</td>\n",
       "      <td>0.451581</td>\n",
       "      <td>0.015554</td>\n",
       "    </tr>\n",
       "    <tr>\n",
       "      <th>4</th>\n",
       "      <td>0.799113</td>\n",
       "      <td>0.014875</td>\n",
       "      <td>0.277159</td>\n",
       "      <td>0.343087</td>\n",
       "      <td>0.669210</td>\n",
       "      <td>0.357550</td>\n",
       "    </tr>\n",
       "    <tr>\n",
       "      <th>5</th>\n",
       "      <td>0.138123</td>\n",
       "      <td>0.322864</td>\n",
       "      <td>0.516023</td>\n",
       "      <td>0.320901</td>\n",
       "      <td>0.587965</td>\n",
       "      <td>0.813265</td>\n",
       "    </tr>\n",
       "    <tr>\n",
       "      <th>6</th>\n",
       "      <td>0.307689</td>\n",
       "      <td>0.756027</td>\n",
       "      <td>0.299302</td>\n",
       "      <td>0.488060</td>\n",
       "      <td>0.043801</td>\n",
       "      <td>0.436033</td>\n",
       "    </tr>\n",
       "  </tbody>\n",
       "</table>\n",
       "</div>"
      ],
      "text/plain": [
       "   column_1  column_2  column_3  column_4  column_5  column_6\n",
       "1  0.870866  0.563167  0.856440  0.249669  0.669223  0.779587\n",
       "2  0.416753     Nazer  0.718277  0.479558  0.919343  0.983921\n",
       "3  0.933786  0.294643  0.525379  0.684176  0.451581  0.015554\n",
       "4  0.799113  0.014875  0.277159  0.343087  0.669210  0.357550\n",
       "5  0.138123  0.322864  0.516023  0.320901  0.587965  0.813265\n",
       "6  0.307689  0.756027  0.299302  0.488060  0.043801  0.436033"
      ]
     },
     "execution_count": 15,
     "metadata": {},
     "output_type": "execute_result"
    }
   ],
   "source": [
    "df1"
   ]
  },
  {
   "cell_type": "code",
   "execution_count": 16,
   "id": "eb1c7a55-68ab-453c-867e-e00e0cde4d46",
   "metadata": {},
   "outputs": [
    {
     "name": "stderr",
     "output_type": "stream",
     "text": [
      "/tmp/ipykernel_2219/2661563458.py:1: FutureWarning: Dropping of nuisance columns in rolling operations is deprecated; in a future version this will raise TypeError. Select only valid columns before calling the operation. Dropped columns were Index(['column_2'], dtype='object')\n",
      "  df1.rolling(window=3).mean()\n"
     ]
    },
    {
     "data": {
      "text/html": [
       "<div>\n",
       "<style scoped>\n",
       "    .dataframe tbody tr th:only-of-type {\n",
       "        vertical-align: middle;\n",
       "    }\n",
       "\n",
       "    .dataframe tbody tr th {\n",
       "        vertical-align: top;\n",
       "    }\n",
       "\n",
       "    .dataframe thead th {\n",
       "        text-align: right;\n",
       "    }\n",
       "</style>\n",
       "<table border=\"1\" class=\"dataframe\">\n",
       "  <thead>\n",
       "    <tr style=\"text-align: right;\">\n",
       "      <th></th>\n",
       "      <th>column_1</th>\n",
       "      <th>column_3</th>\n",
       "      <th>column_4</th>\n",
       "      <th>column_5</th>\n",
       "      <th>column_6</th>\n",
       "    </tr>\n",
       "  </thead>\n",
       "  <tbody>\n",
       "    <tr>\n",
       "      <th>1</th>\n",
       "      <td>NaN</td>\n",
       "      <td>NaN</td>\n",
       "      <td>NaN</td>\n",
       "      <td>NaN</td>\n",
       "      <td>NaN</td>\n",
       "    </tr>\n",
       "    <tr>\n",
       "      <th>2</th>\n",
       "      <td>NaN</td>\n",
       "      <td>NaN</td>\n",
       "      <td>NaN</td>\n",
       "      <td>NaN</td>\n",
       "      <td>NaN</td>\n",
       "    </tr>\n",
       "    <tr>\n",
       "      <th>3</th>\n",
       "      <td>0.740468</td>\n",
       "      <td>0.700032</td>\n",
       "      <td>0.471134</td>\n",
       "      <td>0.680049</td>\n",
       "      <td>0.593021</td>\n",
       "    </tr>\n",
       "    <tr>\n",
       "      <th>4</th>\n",
       "      <td>0.716551</td>\n",
       "      <td>0.506938</td>\n",
       "      <td>0.502274</td>\n",
       "      <td>0.680045</td>\n",
       "      <td>0.452342</td>\n",
       "    </tr>\n",
       "    <tr>\n",
       "      <th>5</th>\n",
       "      <td>0.623674</td>\n",
       "      <td>0.439520</td>\n",
       "      <td>0.449388</td>\n",
       "      <td>0.569585</td>\n",
       "      <td>0.395456</td>\n",
       "    </tr>\n",
       "    <tr>\n",
       "      <th>6</th>\n",
       "      <td>0.414975</td>\n",
       "      <td>0.364161</td>\n",
       "      <td>0.384016</td>\n",
       "      <td>0.433659</td>\n",
       "      <td>0.535616</td>\n",
       "    </tr>\n",
       "  </tbody>\n",
       "</table>\n",
       "</div>"
      ],
      "text/plain": [
       "   column_1  column_3  column_4  column_5  column_6\n",
       "1       NaN       NaN       NaN       NaN       NaN\n",
       "2       NaN       NaN       NaN       NaN       NaN\n",
       "3  0.740468  0.700032  0.471134  0.680049  0.593021\n",
       "4  0.716551  0.506938  0.502274  0.680045  0.452342\n",
       "5  0.623674  0.439520  0.449388  0.569585  0.395456\n",
       "6  0.414975  0.364161  0.384016  0.433659  0.535616"
      ]
     },
     "execution_count": 16,
     "metadata": {},
     "output_type": "execute_result"
    }
   ],
   "source": [
    "df1.rolling(window=3).mean()"
   ]
  },
  {
   "cell_type": "markdown",
   "id": "ff6df0d3-7457-43a3-8639-40f0bdfbb5d8",
   "metadata": {},
   "source": [
    "# Q7. Write a code to print only the current month and year at the time of answering this question. [Hint: Use pandas.datetime function]"
   ]
  },
  {
   "cell_type": "code",
   "execution_count": 17,
   "id": "c8472cdb-a655-4372-8ddb-74c42d6ff3ce",
   "metadata": {},
   "outputs": [
    {
     "data": {
      "text/plain": [
       "Timestamp('2023-07-01 08:53:33.979380')"
      ]
     },
     "execution_count": 17,
     "metadata": {},
     "output_type": "execute_result"
    }
   ],
   "source": [
    "pd.to_datetime('today')"
   ]
  },
  {
   "cell_type": "markdown",
   "id": "44835a35-f457-491a-9130-9f6eb78e8de4",
   "metadata": {},
   "source": [
    "# Q8. Write a Python program that takes in two dates as input (in the format YYYY-MM-DD) and calculates the difference between them in days, hours, and minutes using Pandas time delta. The program should prompt the user to enter the dates and display the result."
   ]
  },
  {
   "cell_type": "code",
   "execution_count": 18,
   "id": "aa57c2b3-b68d-4a49-b32f-8bf12c0456b4",
   "metadata": {},
   "outputs": [
    {
     "name": "stdin",
     "output_type": "stream",
     "text": [
      "Enter a date in format of YYYY-MM-DD :  2003-06-10\n",
      "Enter a date in format of YYYY-MM-DD :  2023-07-01\n"
     ]
    },
    {
     "data": {
      "text/html": [
       "<div>\n",
       "<style scoped>\n",
       "    .dataframe tbody tr th:only-of-type {\n",
       "        vertical-align: middle;\n",
       "    }\n",
       "\n",
       "    .dataframe tbody tr th {\n",
       "        vertical-align: top;\n",
       "    }\n",
       "\n",
       "    .dataframe thead th {\n",
       "        text-align: right;\n",
       "    }\n",
       "</style>\n",
       "<table border=\"1\" class=\"dataframe\">\n",
       "  <thead>\n",
       "    <tr style=\"text-align: right;\">\n",
       "      <th></th>\n",
       "      <th>F Date</th>\n",
       "      <th>S Date</th>\n",
       "      <th>Different</th>\n",
       "    </tr>\n",
       "  </thead>\n",
       "  <tbody>\n",
       "    <tr>\n",
       "      <th>0</th>\n",
       "      <td>2003-06-10</td>\n",
       "      <td>2023-07-01</td>\n",
       "      <td>-7326 days</td>\n",
       "    </tr>\n",
       "  </tbody>\n",
       "</table>\n",
       "</div>"
      ],
      "text/plain": [
       "      F Date     S Date  Different\n",
       "0 2003-06-10 2023-07-01 -7326 days"
      ]
     },
     "execution_count": 18,
     "metadata": {},
     "output_type": "execute_result"
    }
   ],
   "source": [
    "first_date = input(\"Enter a date in format of YYYY-MM-DD : \")\n",
    "second_date = input(\"Enter a date in format of YYYY-MM-DD : \")\n",
    "\n",
    "date_1 = pd.DataFrame({'F Date':[pd.to_datetime(first_date)],\n",
    "                      'S Date':[pd.to_datetime(second_date)],\n",
    "                      'Different':[pd.to_datetime(first_date)-pd.to_datetime(second_date)]})\n",
    "date_1"
   ]
  },
  {
   "cell_type": "markdown",
   "id": "13023d56-7f19-4ce5-90cd-84de50a5d485",
   "metadata": {},
   "source": [
    "# Q9. Write a Python program that reads a CSV file containing categorical data and converts a specified column to a categorical data type. The program should prompt the user to enter the file path, column name, and category order, and then display the sorted data."
   ]
  },
  {
   "cell_type": "code",
   "execution_count": 19,
   "id": "59162ede-4768-4634-abbd-b7f74ee6250a",
   "metadata": {},
   "outputs": [],
   "source": [
    "import csv\n",
    "import pandas as pd\n",
    "import numpy as np\n"
   ]
  },
  {
   "cell_type": "code",
   "execution_count": null,
   "id": "d0926f49-a492-4972-b46e-ffbac3b66aec",
   "metadata": {},
   "outputs": [],
   "source": [
    "# file_path = \"E:\\\\dummy_data\\\\taxonomy.csv\"\n",
    "file_path = input(\"Enter file location with file name : \")\n",
    "\n",
    "column_name = input(\"Enter file categorical column name : \")\n",
    "# column_name = \"parent_name\"\n",
    "\n",
    "category_order = bool(input(\"Enter column order True or False : \"))\n",
    "# category_order = True\n",
    "\n",
    "df = pd.read_csv(file_path, encoding='utf-8')\n",
    "print(f\"Your file datas are : \\n {df}\")"
   ]
  },
  {
   "cell_type": "code",
   "execution_count": null,
   "id": "cb760c08-7cb1-40ea-9006-36d592ac5ab6",
   "metadata": {},
   "outputs": [],
   "source": [
    "pd.Categorical(df[column_name],ordered=category_order)\n"
   ]
  },
  {
   "cell_type": "markdown",
   "id": "9dcba774-fe63-4a34-9b87-1f2a3b0a32bf",
   "metadata": {},
   "source": [
    "# Q10. Write a Python program that reads a CSV file containing sales data for different products and visualizes the data using a stacked bar chart to show the sales of each product category over time. The program should prompt the user to enter the file path and display the chart."
   ]
  },
  {
   "cell_type": "code",
   "execution_count": null,
   "id": "644aac47-3ac2-43d3-98b1-39c9b63cebfc",
   "metadata": {},
   "outputs": [],
   "source": [
    "file_path = input(\"Enter file location with file name : \")\n",
    "df = pd.read_csv(file_path)\n",
    "# display(df.head())\n",
    "display(df.plot.scatter(x= 'TYPE OF HOME',y='TOTAL NO. OF PROPERTIES'))\n"
   ]
  },
  {
   "cell_type": "markdown",
   "id": "76837feb-a7a8-412e-912f-e65b3ef3adaa",
   "metadata": {},
   "source": [
    "# Q11. You are given a CSV file containing student data that includes the student ID and their test score. Write a Python program that reads the CSV file, calculates the mean, median, and mode of the test scores, and displays the results in a table.\n",
    "\n",
    "The program should do the following:\n",
    "\n",
    "Prompt the user to enter the file path of the CSV file containing the student data. Read the CSV file into a Pandas DataFrame. Calculate the mean, median, and mode of the test scores using Pandas tools. Display the mean, median, and mode in a table. Assume the CSV file contains the following columns:\n",
    "\n",
    "Student ID: The ID of the student. Test Score: The score of the student's test. Example usage of the program: Enter the file path of the CSV file containing the student data: student_data.csv\n",
    "\n",
    "+-----------+-------+ | Statistic | Value | +-----------+-------+ | Mean |179.6 | | Median | 82 | | Mode | 85,90 | +-----------+-------+\n",
    "\n",
    "Assume that the CSV file student_data.csv contains the following data: Student ID,Test Score 1,85 2,90 3,80 4,75 5,85 6,82 7,78 8,85 9,90 10,85 The program should calculate the mean, median, and mode of the test scores and display the results in a table.\n",
    "\n"
   ]
  },
  {
   "cell_type": "code",
   "execution_count": null,
   "id": "99ab26db-bad5-4185-8998-4b3dc333bdaa",
   "metadata": {},
   "outputs": [],
   "source": [
    "path = \"E:\\\\dummy_data\\\\student data.csv\"\n",
    "df = pd.read_csv(path)\n",
    "\n",
    "print('Get mean pd.DataFrame')\n",
    "# display(df.mean())\n",
    "display(df.mean)\n",
    "\n",
    "print('Get mddian pd.DataFrame')\n",
    "# display(df.median())\n",
    "display(df.median)\n",
    "\n",
    "print('Get mode pd.DataFrame')\n",
    "# display(df.mode)\n",
    "display(df.mode())"
   ]
  },
  {
   "cell_type": "code",
   "execution_count": null,
   "id": "37d5df56-8bc0-4f25-8b38-14b4879323a1",
   "metadata": {},
   "outputs": [],
   "source": []
  }
 ],
 "metadata": {
  "kernelspec": {
   "display_name": "Python 3 (ipykernel)",
   "language": "python",
   "name": "python3"
  },
  "language_info": {
   "codemirror_mode": {
    "name": "ipython",
    "version": 3
   },
   "file_extension": ".py",
   "mimetype": "text/x-python",
   "name": "python",
   "nbconvert_exporter": "python",
   "pygments_lexer": "ipython3",
   "version": "3.10.8"
  }
 },
 "nbformat": 4,
 "nbformat_minor": 5
}
