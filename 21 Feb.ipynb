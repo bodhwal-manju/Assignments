{
 "cells": [
  {
   "cell_type": "markdown",
   "id": "3e6eb86d-11f0-427b-bfa3-30be8e735152",
   "metadata": {},
   "source": [
    "# Q1. What is Web Scraping? Why is it Used? Give three areas where Web Scraping is used to get data."
   ]
  },
  {
   "cell_type": "markdown",
   "id": "9da92aaf-5183-4515-ac1c-b7df0d579972",
   "metadata": {},
   "source": [
    "Web Scraping is a way to scrap or collent data form a website. It is used to grab data to perfom some test and gethr use full information by using this data.\n",
    "\n",
    "In big data In data Analytics In data engineer every data related fields\n",
    "\n"
   ]
  },
  {
   "cell_type": "markdown",
   "id": "454d9306-84dc-452d-a99f-36b119d757e1",
   "metadata": {},
   "source": [
    "# Q2. What are the different methods used for Web Scraping?"
   ]
  },
  {
   "cell_type": "markdown",
   "id": "045aa6b9-e52b-4bde-9194-34fd1e8bbc8c",
   "metadata": {},
   "source": [
    "1. scraping.find(\"div\")                # find first div\n",
    "2. scraping.find_all(\"a\")                 # return all anchor tag\n",
    "3. scraping.select(\"div > p\")           # find paragraph tag inside a div tag\n",
    "4. scraping.find(\"div\").text            # return tag in text format\n"
   ]
  },
  {
   "cell_type": "markdown",
   "id": "51e35a2d-badf-4348-8eea-9ec747e8faff",
   "metadata": {},
   "source": [
    "# Q3. What is Beautiful Soup? Why is it used?"
   ]
  },
  {
   "cell_type": "markdown",
   "id": "0977110a-524f-428f-9dcd-85ce5deca4d9",
   "metadata": {},
   "source": [
    "BeautifulSoup is a python module, It is used to fetch/scrap data form any publicly abailable website data"
   ]
  },
  {
   "cell_type": "markdown",
   "id": "091db6fe-1f38-42d7-8f2f-45be1dd35f86",
   "metadata": {},
   "source": [
    "# Q4. Why is flask used in this Web Scraping project?"
   ]
  },
  {
   "cell_type": "markdown",
   "id": "fc60145b-0eae-4049-bbe0-20552b22aa02",
   "metadata": {},
   "source": [
    "Basicly flask is a API tool, So it is used to build connection between web scraping data and project"
   ]
  },
  {
   "cell_type": "markdown",
   "id": "c1dc37e2-33c7-4025-97fb-868e3ecd7f8b",
   "metadata": {},
   "source": [
    "# Q5. Write the names of AWS services used in this project. Also, explain the use of each service."
   ]
  },
  {
   "cell_type": "markdown",
   "id": "0162925f-6fee-48ad-b49b-76f8bb3d3026",
   "metadata": {},
   "source": [
    "Ans : In this project two AWS services uses\n",
    "\n",
    "First one is Code Pipeline, which is used to connect github repo Second one is Beanstalk, which is used to connect with code pipeline"
   ]
  },
  {
   "cell_type": "code",
   "execution_count": null,
   "id": "efadd71e-8524-41c8-963d-a6eb4c3aac64",
   "metadata": {},
   "outputs": [],
   "source": []
  }
 ],
 "metadata": {
  "kernelspec": {
   "display_name": "Python 3 (ipykernel)",
   "language": "python",
   "name": "python3"
  },
  "language_info": {
   "codemirror_mode": {
    "name": "ipython",
    "version": 3
   },
   "file_extension": ".py",
   "mimetype": "text/x-python",
   "name": "python",
   "nbconvert_exporter": "python",
   "pygments_lexer": "ipython3",
   "version": "3.10.8"
  }
 },
 "nbformat": 4,
 "nbformat_minor": 5
}
