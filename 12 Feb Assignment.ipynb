{
 "cells": [
  {
   "cell_type": "code",
   "execution_count": 2,
   "id": "677b5a21-d6b1-410b-9a35-2e5aa77b2982",
   "metadata": {},
   "outputs": [
    {
     "data": {
      "text/plain": [
       "\"In Python, an exception is an event that occurs during the execution of a program that disrupts the normal flow of the program's instructions. When an exceptional situation occurs, an exception object is created and thrown, indicating that something unexpected or erroneous has happened.\\n\\nSyntax errors, on the other hand, are errors that occur when the Python interpreter encounters code that violates the language's syntax rules. These errors typically prevent the program from being compiled or executed.\\n\\nHere are the key differences between exceptions and syntax errors:\\n\\nCause: Syntax errors are caused by mistakes in the structure of the code, such as misspelled keywords, missing parentheses, or incorrect indentation. Exceptions, on the other hand, are raised during the execution of the program when something unexpected or erroneous happens, such as dividing by zero or accessing a non-existent file.\\n\\nDetection: Syntax errors are detected by the Python interpreter during the parsing or compilation phase, before the program is executed. Exceptions, on the other hand, are detected at runtime when the code is being executed.\\n\\nHandling: Syntax errors must be fixed by correcting the code before it can be executed. Exceptions, however, can be handled and managed using error-handling mechanisms like try-except blocks. By catching exceptions, you can gracefully handle exceptional situations and prevent your program from crashing.\\n\\nTypes: Syntax errors are typically limited to issues with the code's syntax and structure. Exceptions, on the other hand, come in various types, such as ValueError, TypeError, FileNotFoundError, and many more. Each exception type represents a specific type of exceptional situation that can occur during the execution of the program.\\n\""
      ]
     },
     "execution_count": 2,
     "metadata": {},
     "output_type": "execute_result"
    }
   ],
   "source": [
    "# Q1\n",
    "\"\"\"In Python, an exception is an event that occurs during the execution of a program that disrupts the normal flow of the program's instructions. When an exceptional situation occurs, an exception object is created and thrown, indicating that something unexpected or erroneous has happened.\n",
    "\n",
    "Syntax errors, on the other hand, are errors that occur when the Python interpreter encounters code that violates the language's syntax rules. These errors typically prevent the program from being compiled or executed.\n",
    "\n",
    "Here are the key differences between exceptions and syntax errors:\n",
    "\n",
    "Cause: Syntax errors are caused by mistakes in the structure of the code, such as misspelled keywords, missing parentheses, or incorrect indentation. Exceptions, on the other hand, are raised during the execution of the program when something unexpected or erroneous happens, such as dividing by zero or accessing a non-existent file.\n",
    "\n",
    "Detection: Syntax errors are detected by the Python interpreter during the parsing or compilation phase, before the program is executed. Exceptions, on the other hand, are detected at runtime when the code is being executed.\n",
    "\n",
    "Handling: Syntax errors must be fixed by correcting the code before it can be executed. Exceptions, however, can be handled and managed using error-handling mechanisms like try-except blocks. By catching exceptions, you can gracefully handle exceptional situations and prevent your program from crashing.\n",
    "\n",
    "Types: Syntax errors are typically limited to issues with the code's syntax and structure. Exceptions, on the other hand, come in various types, such as ValueError, TypeError, FileNotFoundError, and many more. Each exception type represents a specific type of exceptional situation that can occur during the execution of the program.\n",
    "\"\"\""
   ]
  },
  {
   "cell_type": "code",
   "execution_count": 3,
   "id": "ee3b1b63-86e5-4299-b44d-7c1ce5778b9d",
   "metadata": {},
   "outputs": [
    {
     "data": {
      "text/plain": [
       "'When an exception is not handled, it leads to an abrupt termination of the program and an error message is displayed, indicating the type of exception that occurred along with a traceback. This means that the program execution is stopped at the point where the exception was raised, and any remaining code in the program will not be executed.'"
      ]
     },
     "execution_count": 3,
     "metadata": {},
     "output_type": "execute_result"
    }
   ],
   "source": [
    "#Q2\n",
    "\"\"\"When an exception is not handled, it leads to an abrupt termination of the program and an error message is displayed, indicating the type of exception that occurred along with a traceback. This means that the program execution is stopped at the point where the exception was raised, and any remaining code in the program will not be executed.\"\"\""
   ]
  },
  {
   "cell_type": "code",
   "execution_count": 5,
   "id": "a3199768-d32a-4a44-b327-da4f23ef5e07",
   "metadata": {},
   "outputs": [
    {
     "ename": "ZeroDivisionError",
     "evalue": "division by zero",
     "output_type": "error",
     "traceback": [
      "\u001b[0;31m---------------------------------------------------------------------------\u001b[0m",
      "\u001b[0;31mZeroDivisionError\u001b[0m                         Traceback (most recent call last)",
      "Cell \u001b[0;32mIn[5], line 4\u001b[0m\n\u001b[1;32m      2\u001b[0m num1\u001b[38;5;241m=\u001b[39m\u001b[38;5;241m10\u001b[39m\n\u001b[1;32m      3\u001b[0m num2\u001b[38;5;241m=\u001b[39m\u001b[38;5;241m0\u001b[39m\n\u001b[0;32m----> 4\u001b[0m result\u001b[38;5;241m=\u001b[39m\u001b[43mnum1\u001b[49m\u001b[38;5;241;43m/\u001b[39;49m\u001b[43mnum2\u001b[49m \u001b[38;5;66;03m# Division by 0 will raise an exception\u001b[39;00m\n\u001b[1;32m      5\u001b[0m \u001b[38;5;28mprint\u001b[39m(\u001b[38;5;124m\"\u001b[39m\u001b[38;5;124mResult\u001b[39m\u001b[38;5;124m\"\u001b[39m,result) \u001b[38;5;66;03m# this line will  not executed\u001b[39;00m\n",
      "\u001b[0;31mZeroDivisionError\u001b[0m: division by zero"
     ]
    }
   ],
   "source": [
    "# Example:-\n",
    "num1=10\n",
    "num2=0\n",
    "result=num1/num2 # Division by 0 will raise an exception\n",
    "print(\"Result\",result) # this line will  not executed"
   ]
  },
  {
   "cell_type": "code",
   "execution_count": 6,
   "id": "374121f9-d631-45d3-8d55-f4758935d639",
   "metadata": {},
   "outputs": [
    {
     "data": {
      "text/plain": [
       "'In Python, the try-except statements are used to catch and handle exceptions. The try block is used to enclose the code that might raise an exception, while the except block is used to define the actions to be taken when a specific exception occurs.'"
      ]
     },
     "execution_count": 6,
     "metadata": {},
     "output_type": "execute_result"
    }
   ],
   "source": [
    "#Q3\n",
    "\"\"\"In Python, the try-except statements are used to catch and handle exceptions. The try block is used to enclose the code that might raise an exception, while the except block is used to define the actions to be taken when a specific exception occurs.\"\"\""
   ]
  },
  {
   "cell_type": "code",
   "execution_count": 3,
   "id": "6a6cfd3d-833a-49c1-86e9-195acaba4286",
   "metadata": {},
   "outputs": [
    {
     "name": "stdout",
     "output_type": "stream",
     "text": [
      "this is my except block [Errno 2] No such file or directory: 'text.txt'\n"
     ]
    }
   ],
   "source": [
    "# Example:-\n",
    "try:\n",
    "    f=open(\"text.txt\",'r')\n",
    "except FileNotFoundError as e:\n",
    "    print(\"this is my except block\",e)"
   ]
  },
  {
   "cell_type": "code",
   "execution_count": 5,
   "id": "45720523-78de-47e6-a2f5-3d4be3a260d8",
   "metadata": {},
   "outputs": [
    {
     "name": "stdin",
     "output_type": "stream",
     "text": [
      "Enter a number:  67\n"
     ]
    },
    {
     "name": "stdout",
     "output_type": "stream",
     "text": [
      "Result: 0.14925373134328357\n"
     ]
    }
   ],
   "source": [
    "#Q4\n",
    "\"\"\"1.try, except, and else:\n",
    "In Python, the try-except-else block is used for handling exceptions. It allows you to write code that may potentially raise an exception, and you can specify how to handle the exception if it occurs. The else block is optional and is executed only if no exceptions are raised within the try block. \"\"\"\n",
    "# Example\n",
    "try:\n",
    "    x=10\n",
    "    y=int(input(\"Enter a number: \"))\n",
    "    result=x/y\n",
    "    \n",
    "except ZeroDivisionError as e:\n",
    "    print(\"Eroor : cannot divide by zer!\",e)\n",
    "else:\n",
    "    print(\"Result:\",result)"
   ]
  },
  {
   "cell_type": "code",
   "execution_count": 17,
   "id": "b7eee17f-d764-45fd-8b40-316e7c9160a3",
   "metadata": {},
   "outputs": [
    {
     "name": "stdout",
     "output_type": "stream",
     "text": [
      "Error : File not found! [Errno 2] No such file or directory: 'example1.txt'\n"
     ]
    }
   ],
   "source": [
    "\"\"\"\n",
    "2.finally:-The finally block is used in conjunction with the try-except block and provides a way to specify code that will be executed regardless of whether an exception occurs or not. The finally block is useful for cleanup operations or releasing resources that need to be done regardless of the outcome of the code. \n",
    "\"\"\"\n",
    "#Example\n",
    "file=None\n",
    "try:\n",
    "    file=open(\"example1.txt\",'r')\n",
    "except FileNotFoundError as e:\n",
    "    print(\"Error : File not found!\",e)\n",
    "finally:\n",
    "    if file:\n",
    "        file.close()\n",
    "        print(\"file is closed\")"
   ]
  },
  {
   "cell_type": "code",
   "execution_count": 21,
   "id": "f20f4fcd-e198-4d02-8d9c-d3ceb553a804",
   "metadata": {},
   "outputs": [
    {
     "name": "stdin",
     "output_type": "stream",
     "text": [
      "Enter your birth year:  2003\n"
     ]
    },
    {
     "name": "stdout",
     "output_type": "stream",
     "text": [
      "your age is: 20\n"
     ]
    }
   ],
   "source": [
    "\"\"\"\n",
    "3.raise:-The raise statement is used to explicitly raise an exception in Python. You can raise built-in exceptions or create custom exceptions\n",
    "\"\"\"\n",
    "#Example:-\n",
    "def calculate_Age(year):\n",
    "    if year<0:\n",
    "        raise ValueError(\"Invalid year!\")\n",
    "        \n",
    "    else:\n",
    "        current_year=2023\n",
    "        age=current_year-year\n",
    "        return age\n",
    "try:\n",
    "    birth_year=int(input(\"Enter your birth year: \"))\n",
    "    age=calculate_Age(birth_year)\n",
    "    print(\"your age is:\", age)\n",
    "except ValueError as e:\n",
    "    print(e)"
   ]
  },
  {
   "cell_type": "code",
   "execution_count": 27,
   "id": "694f8c8f-400e-45e7-a475-cf824e9580c5",
   "metadata": {},
   "outputs": [
    {
     "name": "stdout",
     "output_type": "stream",
     "text": [
      "Insufficient balance! Current Balnce:1000,Required amount:1500\n"
     ]
    }
   ],
   "source": [
    "#Q5\n",
    "\"\"\"In Python, custom exceptions are user-defined exceptions that extend the base Exception class or any of its derived classes. By creating custom exceptions, you can define your own specific types of errors that are meaningful and relevant to your program. Custom exceptions allow you to provide more specific error messages, handle exceptional situations unique to your application, and enhance the readability and maintainability of your code.\"\"\"\n",
    "#Example:-\n",
    "class InsufficientBalanceError(Exception):\n",
    "    def __init__(self,balance,amount):\n",
    "        self.balance=balance\n",
    "        self.amount=amount\n",
    "        super().__init__(f\"Insufficient balance! Current Balnce:{balance},Required amount:{amount}\")\n",
    "\n",
    "def withdraw(balance,amount):\n",
    "    if amount>balance:\n",
    "        raise InsufficientBalanceError(balance,amount)\n",
    "    else:\n",
    "        print(\"Withdrawal successful!\")\n",
    "try:\n",
    "    account_balance=1000\n",
    "    withdrawal_amount=1500\n",
    "    withdraw(account_balance,withdrawal_amount)\n",
    "except InsufficientBalanceError as e:\n",
    "    print(e)\n",
    "\n",
    "\n",
    "\n",
    "\n"
   ]
  },
  {
   "cell_type": "code",
   "execution_count": 31,
   "id": "bc2fb017-24de-46a8-b5a0-5264b7d55708",
   "metadata": {},
   "outputs": [],
   "source": [
    "#Q6\n",
    "class CustomException(Exception):\n",
    "    def __init__(self,message):\n",
    "        super().__init__(message)\n",
    "def divide_numbers(a,b):\n",
    "    try:\n",
    "        if b==0:\n",
    "            raise CustomException(\"Cannot divide by zero!\")\n",
    "        else:\n",
    "            return a/b\n",
    "    except CustomException as e:\n",
    "        print(\"Custom Exception occured:\",e)\n",
    "num1=100\n",
    "num2=10\n",
    "result=divide_numbers(num1,num2)\n",
    "result"
   ]
  },
  {
   "cell_type": "code",
   "execution_count": null,
   "id": "11efb3ce-15c1-482e-8fee-0442aa06ed33",
   "metadata": {},
   "outputs": [],
   "source": []
  }
 ],
 "metadata": {
  "kernelspec": {
   "display_name": "Python 3 (ipykernel)",
   "language": "python",
   "name": "python3"
  },
  "language_info": {
   "codemirror_mode": {
    "name": "ipython",
    "version": 3
   },
   "file_extension": ".py",
   "mimetype": "text/x-python",
   "name": "python",
   "nbconvert_exporter": "python",
   "pygments_lexer": "ipython3",
   "version": "3.10.8"
  }
 },
 "nbformat": 4,
 "nbformat_minor": 5
}
